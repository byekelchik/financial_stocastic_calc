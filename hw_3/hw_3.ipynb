{
 "cells": [
  {
   "cell_type": "code",
   "execution_count": 142,
   "metadata": {},
   "outputs": [],
   "source": [
    "import pandas as pd\n",
    "import numpy as np"
   ]
  },
  {
   "cell_type": "markdown",
   "metadata": {},
   "source": [
    "### Problem 1.\n",
    "We consider a two-period binomial model with the following properties: each period lasts\n",
    "a year and the current stock price is $S_0 = 4$. On each period, the stock price doubles\n",
    "when it moves up and is reduced by half when it moves down. The annual interest rate\n",
    "on the money market is 25%. (This model is the same as in Prob. 1 of HW#2).\n",
    "We consider four options on this market:\n",
    "\n",
    "- A European call option with maturity T = 2 years and strike price K = 4;\n",
    "\n",
    "- A European put option with maturity T = 2 years and strike price K = 4;\n",
    "\n",
    "- An American call option with maturity T = 2 years and strike price K = 4;\n",
    "\n",
    "- An American put option with maturity T = 2 years and strike price K = 4.\n",
    "\n",
    "(a) Find the price at time 0 of both European options.\n",
    "Information Implied\n",
    "- $S_7$ = 16 with $f_c = 12$ and $f_p = 0$ \n",
    "- $S_{5,6}$ = 4 with $f_c = 0$ and $f_p = 0$  \n",
    "- $S_4$ = 1 with $f_c = 0$ and $f_p = 3$ \n",
    "- $r = .25$\n",
    "\n",
    "**Call for $r=.25$**\n",
    "\n",
    "$q = \\frac{8(1+.25)-4}{16-4} = \\frac{1}{2}$\n",
    "$$f_3 = \\frac{1}{1+.25}(.5(12)+.5(0)) = \\frac{24}{5} $$\n",
    "$$f_2 = \\frac{1}{1+.25}(.5(0)+.(0)) =0 $$\n",
    "$$f_1 = \\frac{1}{1+.25}(.5f_3+.5f_2) =\\frac{4}{5}(.5*\\frac{24}{5}+.5*0) =\\frac{48}{25} $$\n",
    "\n",
    "**Put for $r=.25$**\n",
    "\n",
    "$$f_3 = \\frac{1}{1+.25}(.5(0)+.5(0)) =0 $$\n",
    "$$f_2 = \\frac{1}{1+.25}(.5(0)+.5(3)) = \\frac{4}{5}(\\frac{3}{2}) = \\frac{12}{10}  = \\frac{6}{5}$$\n",
    "$$f_1 = \\frac{1}{1+.25}(.5(0)+.5(\\frac{6}{5})) = \\frac{12}{25} $$\n",
    "\n",
    "(b) Find the price at time 0 of both American options. Compare your results with (a)\n",
    "and comment.\n",
    "\n",
    "**Call for $r=.25$**\n",
    "\n",
    "$q = \\frac{8(1+.25)-4}{16-4} = \\frac{1}{2}$\n",
    "$$f_3 = \\frac{1}{1+.25}(.5(12)+.5(0)) = \\frac{24}{5} $$\n",
    "$$f_2 = \\frac{1}{1+.25}(.5(0)+.(0)) =0 $$\n",
    "$$f_1 = \\frac{1}{1+.25}(.5f_3+.5f_2) =\\frac{4}{5}(.5*4.8+.5*0) =1.92 = \\frac{48}{25} $$\n",
    "\n",
    "**Put for $r=.25$**\n",
    "\n",
    "$$f_3 = \\frac{1}{1+.25}(.5(0)+.5(0)) =0 $$\n",
    "$$f_2 = \\frac{1}{1+.25}(.5(0)+.5(3)) = \\frac{4}{5}(\\frac{3}{2}) = \\frac{12}{10} $$\n",
    "$$f_1 = \\frac{1}{1+.25}(.5(0)+.5(2)) = \\frac{4}{5} $$\n",
    "\n",
    "(c) For each of the American options, describe the optimal exercising strategy.\n",
    "\n",
    "Exercise at $t=1$ regardless of put or call\n",
    "\n",
    "(d) We assume that you sell the American put to a market participant A for the price\n",
    "found in (b). Explain how you act on the market to be able to payoff A when he\n",
    "exercises the option. (We assume that A exercises optimally.)\n",
    "\n",
    "Participant A will exercise at $t=1$. At $t=0$ we sell the put to him, while shorting the stock and putting the resulting cash flow in the money market. At $t=1$, we will buy the stock, and withdraw from the MM. and make 2 dollars. \n",
    "\n",
    "|Action|$$t=0$$| $$t=1$$|\n",
    "| -- | -- | -- |\n",
    "|Short Put|$$\\frac{4}{5}$$|$$-2$$|\n",
    "|Short Stock|$$4$$|$$-2$$|\n",
    "|Long MM|$$-\\frac{24}{5}$$|$$\\frac{24}{5}*\\frac{5}{4} = 6$$|\n",
    "|Total CF|$$0$$|$$2$$|\n",
    "\n",
    "(e) Now assume that A makes a mistake and doesn’t exercise optimally. What is the\n",
    "consequence for you as the seller of the option ? (Only a short answer is required.)\n",
    "\n",
    "We would make more money then when he exercising at $t=1$"
   ]
  },
  {
   "cell_type": "markdown",
   "metadata": {},
   "source": [
    "\n",
    "### Problem 2. (Prob. 1 continued)\n",
    "We consider the same stock evolution as in Problem 1, but we now assume that the market\n",
    "is 3-period and the expiration date of the options is T = 3 years.\n",
    "\n",
    "- $S_7$ = 32 with $f_c = 28$ and $f_p = 0$ \n",
    "- $S_8$ = 8 with $f_c = 4$ and $f_p = 0$  \n",
    "- $S_9$ = 2 with $f_c = 0$ and $f_p = 2$\n",
    "- $S_{10}$ = .5 with $f_c = 0$ and $f_p = 3.5$ \n",
    "- $r = .25$\n"
   ]
  },
  {
   "cell_type": "markdown",
   "metadata": {},
   "source": [
    "\n",
    "(a) Repeat questions (a), (b) and (c) of Problem 1 in this new market. (You don’t have\n",
    "to provide all the calculations, numerical results are sufficient.)\n",
    "\n",
    "- Part A: Call = $\\frac{64}{25}$, Put = $\\frac{76}{125}$\n",
    "- Part B: Call = $\\frac{64}{25}$, Put = $\\frac{116}{125}$\n",
    "- Part C: For put we exercise at $t=1$\n"
   ]
  },
  {
   "cell_type": "markdown",
   "metadata": {},
   "source": [
    "\n",
    "(b) We consider a new type of option on this market: an American straddle option with\n",
    "strike price K = 4. The payoff of an American straddle is the sum of the payoffs of\n",
    "an American call and an American put. If you exercise it when $S_t = 5$, your payoff\n",
    "is 1. If you exercise it when $S_t = 2$, your payoff is 2. You are allowed to exercise at\n",
    "any time. Find the price of this option.\n",
    "\n",
    "Implied info:\n",
    "- $S_7$ = 32 with $f_c = 28$ and $f_p = 0$ \n",
    "- $S_8$ = 8 with $f_c = 4$ and $f_p = 0$  \n",
    "- $S_9$ = 2 with $f_c = 0$ and $f_p = 2$\n",
    "- $S_{10}$ = .5 with $f_c = 0$ and $f_p = 3.5$ \n",
    "- $r = .25$\n"
   ]
  },
  {
   "cell_type": "markdown",
   "metadata": {},
   "source": [
    "\n",
    "$$@ T=2$$\n",
    "$$f_4=\\max\\{(.8(.5(28)+.5(4)),|16-4|)\\} = \\max\\{12.8,12\\} = 12.8$$\n",
    "$$f_5=\\max\\{(.8(.5(4)+.5(2)),|4-4|)\\} = \\max\\{2.4,0\\} = 2.4$$\n",
    "$$f_6=\\max\\{(.8(.5(0)+.5(0)),|1-4|)\\} = \\max\\{0,3\\} = 3$$\n",
    "\n",
    "$$@ T=1$$\n",
    "\n",
    "$$f_2 = \\max\\{(.8(.5(f_4)+.5(f_5)),|8-4|)\\}=\\max\\{(.8(.5(12.8)+.5(2.4)),|8-4|)\\} = \\max\\{6.08,4\\} = 6.08$$\n",
    "$$f_3 = \\max\\{(.8(.5(f_5)+.5(f_6)),|2-4|)\\}=\\max\\{(.8(.5(2.4)+.5(3)),|2-4|)\\} = \\max\\{2.16,2\\} = 2.16$$\n",
    "\n",
    "$$@T=0$$\n",
    "$$f_1=.8(.5(f_2)+.5(f_3))=.8(.5(6.08)+.5(2.16))= 3.296 $$"
   ]
  },
  {
   "cell_type": "markdown",
   "metadata": {},
   "source": [
    "\n",
    "(c) Describe the optimal exercising strategy.\n",
    "The best strategy is to hold to expiry.\n"
   ]
  },
  {
   "cell_type": "markdown",
   "metadata": {},
   "source": [
    "\n",
    "(d) Let $C_0$ (resp. $P_0$, $K_0$) be the prices of the American call (resp. put, straddle). Give\n",
    "an intuitive explanation why you found that\n",
    "$K_0 < C_0 + P_0$.\n",
    "\n",
    "Because put is exercised $t=1$ and straddle at $t=2$, exercising earlier is worth more due to time value of money. Hence, the call plus put will be worth more than the strattle itself.  \n"
   ]
  },
  {
   "cell_type": "markdown",
   "metadata": {},
   "source": [
    "\n",
    "### Problem 3. (N-period model with N large)\n",
    "\n",
    "Note: The purpose of this problem below is to use computational techniques (Excel\n",
    "spreadsheet, Matlab, R, Python, etc.) and code the dynamic programming ideas seen in\n",
    "class. Please provide the numerical answer to the questions as well as a sample of your\n",
    "work (spreadsheet, code file, etc.).\n",
    "We consider an N-period binomial model with the following properties: N = 60, the\n",
    "current stock price is $S_0 = 1000$; on each period, the stock price increases by 0.5% when\n",
    "it moves up and decreases by 0.3% when it moves down. The annual interest rate on the\n",
    "money market is 5%. (Notice that this model is a CRR model, which means that the\n",
    "binomial tree is recombining.)"
   ]
  },
  {
   "cell_type": "code",
   "execution_count": 394,
   "metadata": {},
   "outputs": [
    {
     "name": "stdout",
     "output_type": "stream",
     "text": [
      "0.47916666666666174\n"
     ]
    }
   ],
   "source": [
    "\"\"\"Assumptions we will carry through this problem using the info above\"\"\"\n",
    "n=60\n",
    "u = 1+.005\n",
    "d = 1-.003\n",
    "s_0 = 1000\n",
    "r = .05\n",
    "print(((1 +r*dt) - d) /(u-d))"
   ]
  },
  {
   "cell_type": "code",
   "execution_count": 395,
   "metadata": {},
   "outputs": [],
   "source": [
    "def binomial_price(u,d,T,n,r,s_0,k,type):\n",
    "    \"\"\"\"binomial option pricing w/ N steps for time period T given call or put.\n",
    "        Returns np.array of option price at each time\"\"\"\n",
    "\n",
    "    dt = T/n # time delta \n",
    "    q =((1 +r*dt) - d) /(u-d) #risk free probability\n",
    "    discount = (1+r*dt)**-1 #discount factor\n",
    "    price = s_0* d **(np.arange(n,-1,-1)) * u ** (np.arange(0,n+1,1))\n",
    "    option_p = np.zeros(n+1)\n",
    "    \n",
    "    for i in range(0,n+1):\n",
    "        if type == 'c': #if call then max{S-K,0}\n",
    "            option_p[i] = max(price[i]-k,0)\n",
    "        else: #         #if put then max{k-S,0}\n",
    "            option_p[i] = max(k-price[i],0)\n",
    "    for i in np.arange(n,0,-1):\n",
    "            option_p[0:i] = discount*(q*option_p[1:i+1] + (1-q)*option_p[0:i])\n",
    "    return option_p"
   ]
  },
  {
   "cell_type": "markdown",
   "metadata": {},
   "source": [
    "\n",
    "(a) Find the price at time $t_0 = 0$ of a (European) call option with strike price $K = 1025$\n",
    "and maturity $T = 1$ year.\n"
   ]
  },
  {
   "cell_type": "code",
   "execution_count": 396,
   "metadata": {},
   "outputs": [
    {
     "name": "stdout",
     "output_type": "stream",
     "text": [
      "Price of the call is $28.54\n"
     ]
    }
   ],
   "source": [
    "k= 1025\n",
    "T = 1\n",
    "r = .05\n",
    "type ='c'\n",
    "price =binomial_price(u,d,T,n,r,s_0,k,type)[0]\n",
    "print(f\"Price of the call is ${price.round(2)}\")"
   ]
  },
  {
   "cell_type": "markdown",
   "metadata": {},
   "source": [
    "\n",
    "(b) Find the price at time $t_0 = 0$ of a (European) put option with strike price K = 1025\n",
    "and maturity T = 1 year."
   ]
  },
  {
   "cell_type": "code",
   "execution_count": 397,
   "metadata": {},
   "outputs": [
    {
     "name": "stdout",
     "output_type": "stream",
     "text": [
      "Price of the put is $3.57\n"
     ]
    }
   ],
   "source": [
    "k= 1025\n",
    "T = 1\n",
    "r = .05\n",
    "type ='p'\n",
    "price =binomial_price(u,d,T,n,r,s_0,k,type)[0]\n",
    "print(f\"Price of the put is ${price.round(2)}\")"
   ]
  },
  {
   "cell_type": "markdown",
   "metadata": {},
   "source": [
    "\n",
    "(c) Solution, couldn't program this out\n"
   ]
  },
  {
   "cell_type": "code",
   "execution_count": 351,
   "metadata": {},
   "outputs": [
    {
     "name": "stdout",
     "output_type": "stream",
     "text": [
      "Price at requested position $1008.99\n"
     ]
    }
   ],
   "source": [
    "price_5 = s_0* d **(np.arange(5,-1,-1)) * u ** (np.arange(0,5+1,1))\n",
    "price_6 = s_0* d **(np.arange(6,-1,-1)) * u ** (np.arange(0,6+1,1))\n",
    "print(f'Price at requested position ${price_5[3].round(2)}')"
   ]
  },
  {
   "cell_type": "markdown",
   "metadata": {},
   "source": [
    "\n",
    "(d) Repeat questions (a)-(c) in the case where $r = 0$. Comment on the results.\n",
    "Hint: take advantage of the fact that the model is recombining: moving up, then down\n",
    "takes you to the same value as moving first down, and then up. It reduces the amount of\n",
    "calculations necessary and will speed up your code."
   ]
  },
  {
   "cell_type": "code",
   "execution_count": 399,
   "metadata": {},
   "outputs": [
    {
     "name": "stdout",
     "output_type": "stream",
     "text": [
      "Part A & B: \n",
      "___________\n",
      "Price of c is $3.6\n",
      "Price of p is $28.6\n",
      "Part C: \n",
      "___________\n",
      "Price at requested position $1008.99\n"
     ]
    }
   ],
   "source": [
    "k= 1025\n",
    "T = 1\n",
    "type =['c','p']\n",
    "r=0\n",
    "prices = [binomial_price(u,d,T,n,r,s_0,k,type=i)[0] for i in type]\n",
    "print(\"Part A & B: \\n___________\")\n",
    "for i in range(len(type)):\n",
    "    print(f'Price of {type[i]} is ${prices[i].round(2)}')\n",
    "print(\"Part C: \\n___________\")\n",
    "print(f'Price at requested position ${price_5[3].round(2)}')"
   ]
  }
 ],
 "metadata": {
  "interpreter": {
   "hash": "1d050cddb74b2da45a0628d6c08448b1b07527cd23eae961beca7c27a7bd2f06"
  },
  "kernelspec": {
   "display_name": "Python 3",
   "language": "python",
   "name": "python3"
  },
  "language_info": {
   "codemirror_mode": {
    "name": "ipython",
    "version": 3
   },
   "file_extension": ".py",
   "mimetype": "text/x-python",
   "name": "python",
   "nbconvert_exporter": "python",
   "pygments_lexer": "ipython3",
   "version": "3.9.10"
  }
 },
 "nbformat": 4,
 "nbformat_minor": 2
}
