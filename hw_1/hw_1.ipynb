{
 "cells": [
  {
   "cell_type": "code",
   "execution_count": 5,
   "metadata": {},
   "outputs": [],
   "source": [
    "import pandas as pd\n",
    "import yfinance as yf"
   ]
  },
  {
   "cell_type": "markdown",
   "metadata": {},
   "source": [
    "### Problem 1\n",
    "We consider the situation studied in class as an example. Namely, we assume that the\n",
    "current stock price is $S_0 = 10$. At time $T$, the stock has either moved up to $S_T = 12$ (with\n",
    "probability $p = 0.6$) or down towards $S_T = 8$ (with probability $1−p = 0.4$). We consider\n",
    "a call option on this stock with maturity $T$ and strike price $K = 10$. The interest rate on\n",
    "the money market is zero. <p>\n",
    "As in class, we assume that you, as a customer, are willing to buy the call option on\n",
    "100 shares of stock for $120. The investor, who sold you the option, can adopt one of the\n",
    "following strategies:\n",
    "\n",
    "- **Strategy 1**: (seen in class) Buy 50 shares of stock and borrow $380.\n",
    "    \n",
    "- **Strategy 2**: Buy 55 shares of stock and borrow $430.\n",
    "\n",
    "- **Strategy 3**: Buy 60 shares of stock and borrow $480.\n",
    "    \n",
    "- **Strategy 4**: Buy 40 shares of stock and borrow $280."
   ]
  },
  {
   "cell_type": "markdown",
   "metadata": {},
   "source": [
    "(a) For each of strategies 2-4, describe the value of the investor’s portfolio at time 0,\n",
    "and at time T for each possible movement of the stock. \n",
    "\n",
    "- **Strategy 2**: \n",
    "\n",
    "$f_{+}= 55(12) +430 = 1090$\n",
    "\n",
    "$f_{-}=55(8) +430 = 870 $\n",
    "\n",
    "$\\pi _{v,0} = 55(10) + 430 = 980$\n",
    "\n",
    "- **Strategy 3**: \n",
    "    \n",
    "$f_{+}= 60(12) +480 = 1200$\n",
    "\n",
    "$f_{-}=60(8) + 480 = 960$\n",
    "\n",
    "$\\pi _{v,0} = 60(10) + 480 = 1080$\n",
    "\n",
    "- **Strategy 4**: \n",
    "\n",
    "$f_{+}=40(12) +280 = 760$\n",
    "\n",
    "$f_{-}=40(8) + 280 = 600$\n",
    "\n",
    "$\\pi _{v,0} = 40(10) + 280 = 680$\n",
    "\n",
    "(b) For each of strategies 2-4, does the investor have an arbitrage ? Reminder: an\n",
    "arbitrage is an opportunity to obtain a positive profit without risk. \n",
    "\n",
    "- **Strategy 2**: Yes, 10 dollar arb regardless of up or down \n",
    "\n",
    "- **Strategy 3**: Yes, 40 dollar arb in the up, zero gain in the down\n",
    "    \n",
    "- **Strategy 4**: Yes, zero gain in the up, zero 40 arb in the down\n",
    "\n",
    "(c) If you were the investor, which strategy would you adopt and why ? (This is an\n",
    "open question without a right or wrong answer. Feel free to elaborate.) \n",
    "\n",
    "I'm choosing strat 1 or 2 because there is an arb in both the up and the down case"
   ]
  },
  {
   "cell_type": "markdown",
   "metadata": {},
   "source": [
    "### Problem 2\n",
    "\n",
    "We consider a market with the following properties: the current stock price is $S_0 = 4$.\n",
    "At time T = 1 year, the stock has either moved up to $S_1 = 8$ (with probability 0.7) or\n",
    "down towards $S_1 = 2$ (with probability 0.3). We consider a call option on this stock with\n",
    "maturity $T = 1$ and strike price $K = 5$. The interest rate on the money market is 25%\n",
    "yearly.\n",
    "\n",
    "(a) Find the replicating portfolio ($\\phi,\\psi$) corresponding to this call option. \n",
    "\n",
    "(b) Find the risk-neutral (no-arbitrage) price of this call option.\n",
    "\n",
    "(c) We now consider a put option with maturity $T = 1$ and strike price $K = 3$ on\n",
    "the same market. Find the risk-neutral price of this put option. Reminder: A put\n",
    "option gives you the right to sell the stock for the strike price K.\n",
    "\n",
    "(d) An investor with initial capital $X_0 = 0$ wants to invest on this market. He buys\n",
    "α shares of the stock (or sells them if α is negative) and buys $\\beta$ call options (or\n",
    "sells them is $\\beta$ is negative). He invests the cash balance on the money market (or\n",
    "borrows if the amount is negative).\n",
    "\n",
    "Prove that if the option price is the one found in (a), then the investor will never\n",
    "have an arbitrage opportunity. In other words, prove that if one of the possible final\n",
    "values of his investment is positive, then the other has to be negative."
   ]
  },
  {
   "cell_type": "markdown",
   "metadata": {},
   "source": [
    "### Problem 3: Data Analysis - Part 1\n",
    "\n",
    "This problem is the first step of a series of practical problems aimed at pricing a specific\n",
    "option. Each student will price their own asset.\n",
    "\n",
    "(a) You must pick a stock for which you will be able to find data with the resources\n",
    "at your disposal. Please make sure that you can find daily data for the (adjusted)\n",
    "stock price over a reasonable period of time, as well as option prices for a reasonable\n",
    "range of calls and puts. Submit your choice in the specific module on CourseSite."
   ]
  },
  {
   "cell_type": "code",
   "execution_count": 6,
   "metadata": {},
   "outputs": [
    {
     "name": "stdout",
     "output_type": "stream",
     "text": [
      "[*********************100%***********************]  1 of 1 completed\n"
     ]
    }
   ],
   "source": [
    "visa = yf.Ticker('V')\n",
    "opts = visa.option_chain()\n",
    "v_calls = opts.calls\n",
    "v_puts = opts.puts\n",
    "v_historical = yf.download('V',start = '2021-01-01', end = '2022-01-01' )\n",
    "v_historical = v_historical.drop(['Open','High','Low','Close'],axis = 1)"
   ]
  },
  {
   "cell_type": "code",
   "execution_count": 10,
   "metadata": {},
   "outputs": [],
   "source": [
    "# v_historical"
   ]
  },
  {
   "cell_type": "markdown",
   "metadata": {},
   "source": [
    "(b) Once your choice of asset is approved, summarize the data of your asset: provide\n",
    "the current value, as well as a graph of the daily price over the last year."
   ]
  },
  {
   "cell_type": "code",
   "execution_count": 35,
   "metadata": {},
   "outputs": [
    {
     "name": "stdout",
     "output_type": "stream",
     "text": [
      "Last Price of V: 216.71\n"
     ]
    },
    {
     "data": {
      "image/png": "[encoded data removed]",
      "text/plain": [
       "<Figure size 432x288 with 1 Axes>"
      ]
     },
     "metadata": {
      "needs_background": "light"
     },
     "output_type": "display_data"
    }
   ],
   "source": [
    "import matplotlib.pyplot as plt\n",
    "from numpy import round\n",
    "plt.plot(v_historical['Adj Close'])\n",
    "plt.title('Visa Adj Close Over time')\n",
    "print(\"Last Price of V: \"+ str(round(v_historical['Adj Close'][-1],2)))"
   ]
  },
  {
   "cell_type": "markdown",
   "metadata": {},
   "source": [
    "(c) Use past data to estimate a possible value for the factors u and d in the model seen\n",
    "in class for the stock for a 1-year period. (There is no \"right\" way to do this for\n",
    "this model. Use your best judgment to reach a decision.)"
   ]
  },
  {
   "cell_type": "code",
   "execution_count": null,
   "metadata": {},
   "outputs": [],
   "source": []
  },
  {
   "cell_type": "markdown",
   "metadata": {},
   "source": [
    "(d) Use your values of u and d found in (c), as well as a risk-neutral rate r, to calculate\n",
    "the price of a call option of your choice and compare with the actual price. Comment\n",
    "on the quality of your result."
   ]
  },
  {
   "cell_type": "code",
   "execution_count": null,
   "metadata": {},
   "outputs": [],
   "source": []
  }
 ],
 "metadata": {
  "interpreter": {
   "hash": "1d050cddb74b2da45a0628d6c08448b1b07527cd23eae961beca7c27a7bd2f06"
  },
  "kernelspec": {
   "display_name": "Python 3",
   "language": "python",
   "name": "python3"
  },
  "language_info": {
   "codemirror_mode": {
    "name": "ipython",
    "version": 3
   },
   "file_extension": ".py",
   "mimetype": "text/x-python",
   "name": "python",
   "nbconvert_exporter": "python",
   "pygments_lexer": "ipython3",
   "version": "3.7.6"
  }
 },
 "nbformat": 4,
 "nbformat_minor": 2
}
