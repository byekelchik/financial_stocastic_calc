{
 "cells": [
  {
   "cell_type": "code",
   "execution_count": 2,
   "metadata": {},
   "outputs": [],
   "source": [
    "import pandas as pd\n",
    "import yfinance as yf"
   ]
  },
  {
   "cell_type": "markdown",
   "metadata": {},
   "source": [
    "### Problem 1\n",
    "We consider the situation studied in class as an example. Namely, we assume that the\n",
    "current stock price is $S_0 = 10$. At time $T$, the stock has either moved up to $S_T = 12$ (with\n",
    "probability $p = 0.6$) or down towards $S_T = 8$ (with probability $1−p = 0.4$). We consider\n",
    "a call option on this stock with maturity $T$ and strike price $K = 10$. The interest rate on\n",
    "the money market is zero. <p>\n",
    "As in class, we assume that you, as a customer, are willing to buy the call option on\n",
    "100 shares of stock for $120. The investor, who sold you the option, can adopt one of the\n",
    "following strategies:\n",
    "\n",
    "- **Strategy 1**: (seen in class) Buy 50 shares of stock and borrow $380.\n",
    "    \n",
    "- **Strategy 2**: Buy 55 shares of stock and borrow $430.\n",
    "\n",
    "- **Strategy 3**: Buy 60 shares of stock and borrow $480.\n",
    "    \n",
    "- **Strategy 4**: Buy 40 shares of stock and borrow $280."
   ]
  },
  {
   "cell_type": "markdown",
   "metadata": {},
   "source": [
    "(a) For each of strategies 2-4, describe the value of the investor’s portfolio at time 0,\n",
    "and at time T for each possible movement of the stock. \n",
    "\n",
    "- **Strategy 2**: \n",
    "\n",
    "$f_{+}= 55(12) +430 = 1090$\n",
    "\n",
    "$f_{-}=55(8) +430 = 870 $\n",
    "\n",
    "$\\pi _{v,0} = 55(10) + 430 = 980$\n",
    "\n",
    "- **Strategy 3**: \n",
    "    \n",
    "$f_{+}= 60(12) +480 = 1200$\n",
    "\n",
    "$f_{-}=60(8) + 480 = 960$\n",
    "\n",
    "$\\pi _{v,0} = 60(10) + 480 = 1080$\n",
    "\n",
    "- **Strategy 4**: \n",
    "\n",
    "$f_{+}=40(12) +280 = 760$\n",
    "\n",
    "$f_{-}=40(8) + 280 = 600$\n",
    "\n",
    "$\\pi _{v,0} = 40(10) + 280 = 680$\n",
    "\n",
    "(b) For each of strategies 2-4, does the investor have an arbitrage ? Reminder: an\n",
    "arbitrage is an opportunity to obtain a positive profit without risk. \n",
    "\n",
    "- **Strategy 2**: Yes, 10 dollar arb regardless of up or down \n",
    "\n",
    "- **Strategy 3**: Yes, 40 dollar arb in the up, zero gain in the down\n",
    "    \n",
    "- **Strategy 4**: Yes, zero gain in the up, zero 40 arb in the down\n",
    "\n",
    "(c) If you were the investor, which strategy would you adopt and why ? (This is an\n",
    "open question without a right or wrong answer. Feel free to elaborate.) \n",
    "\n",
    "I'm choosing strat 1 or 2 because there is an arb in both the up and the down case"
   ]
  },
  {
   "cell_type": "markdown",
   "metadata": {},
   "source": [
    "### Problem 2\n",
    "\n",
    "We consider a market with the following properties: the current stock price is $S_0 = 4$.\n",
    "At time T = 1 year, the stock has either moved up to $S_1 = 8$ (with probability 0.7) or\n",
    "down towards $S_1 = 2$ (with probability 0.3). We consider a call option on this stock with\n",
    "maturity $T = 1$ and strike price $K = 5$. The interest rate on the money market is 25%\n",
    "yearly.\n",
    "\n",
    "(a) Find the replicating portfolio ($\\phi,\\psi$) corresponding to this call option. \n",
    "\n",
    "$$\\phi = \\frac{3-0}{8-2} = \\frac{1}{2}$$\n",
    "$$\\psi = \\frac{0-(0.5)*2}{1+.25} = \\frac{-1}{1.25} = \\frac{-4}{5}$$\n",
    "\n",
    "(b) Find the risk-neutral (no-arbitrage) price of this call option.\n",
    "\n",
    "$$v_0 = 4(\\frac{1}{2})+\\frac{-4}{3}=1.2$$\n",
    "\n",
    "(c) We now consider a put option with maturity $T = 1$ and strike price $K = 3$ on\n",
    "the same market. Find the risk-neutral price of this put option. Reminder: A put\n",
    "option gives you the right to sell the stock for the strike price K.\n",
    "\n",
    "$$\\psi = \\frac{1-0}{2-8}=\\frac{-1}{6}$$\n",
    "$$\\frac{-1}{6}(2)+\\phi(1.25) = 1 \\to \\phi = \\frac{4}{3}\\frac{4}{5} = \\frac{16}{15}$$\n",
    "$$v_0 = \\frac{-1}{6}(4) + \\frac{16}{15} = \\frac{6}{15}$$\n",
    "\n",
    "\n",
    "(d) An investor with initial capital $X_0 = 0$ wants to invest on this market. He buys\n",
    "α shares of the stock (or sells them if α is negative) and buys $\\beta$ call options (or\n",
    "sells them is $\\beta$ is negative). He invests the cash balance on the money market (or\n",
    "borrows if the amount is negative).\n",
    "\n",
    "Prove that if the option price is the one found in (a), then the investor will never\n",
    "have an arbitrage opportunity. In other words, prove that if one of the possible final\n",
    "values of his investment is positive, then the other has to be negative.\n",
    "\n",
    "Given the information, $\\alpha S_0 +\\beta C_0 = -\\psi$ must hold. Hence,\n",
    "\n",
    "At time zero, the value of portfolio is:\n",
    "$$\\beta \\frac{6}{5} + 4\\alpha = -\\psi \\to \\psi = -(\\beta \\frac{6}{5} + 4\\alpha) $$\n",
    "\n",
    "$$v_0 = (\\beta \\frac{6}{5} + 4\\alpha) -(\\beta \\frac{6}{5} + 4\\alpha)  = 0$$\n",
    "\n",
    "In the up case, we have:\n",
    "\n",
    "$$3\\beta + 8 \\alpha  -(\\beta \\frac{6}{5} + 4\\alpha) = 3\\alpha +\\frac{3}{2}\\beta$$\n",
    "\n",
    "In the down case, we have:\n",
    "\n",
    "$$0 +2\\alpha -(\\beta \\frac{6}{5} + 4\\alpha) = -3\\alpha - \\frac{3}{2}\\beta$$\n",
    "\n",
    "Now setting the down case equal to the up case, we should get zero if indeed there is no arbitrage.\n",
    "$$3\\alpha +\\frac{3}{2}\\beta = - (3\\alpha +\\frac{3}{2}\\beta) \\to 0$$"
   ]
  },
  {
   "cell_type": "markdown",
   "metadata": {},
   "source": [
    "### Problem 3: Data Analysis - Part 1\n",
    "\n",
    "This problem is the first step of a series of practical problems aimed at pricing a specific\n",
    "option. Each student will price their own asset.\n",
    "\n",
    "(a) You must pick a stock for which you will be able to find data with the resources\n",
    "at your disposal. Please make sure that you can find daily data for the (adjusted)\n",
    "stock price over a reasonable period of time, as well as option prices for a reasonable\n",
    "range of calls and puts. Submit your choice in the specific module on CourseSite."
   ]
  },
  {
   "cell_type": "code",
   "execution_count": 27,
   "metadata": {},
   "outputs": [
    {
     "name": "stdout",
     "output_type": "stream",
     "text": [
      "[*********************100%***********************]  1 of 1 completed\n"
     ]
    }
   ],
   "source": [
    "visa = yf.Ticker('V')\n",
    "opts = visa.option_chain()\n",
    "v_calls = opts.calls\n",
    "v_puts = opts.puts\n",
    "v_historical = yf.download('V',start = '2021-01-01', end = '2022-02-03' )\n",
    "v_historical = v_historical.drop(['Open','High','Low','Close'],axis = 1)"
   ]
  },
  {
   "cell_type": "code",
   "execution_count": 10,
   "metadata": {},
   "outputs": [],
   "source": [
    "# v_historical"
   ]
  },
  {
   "cell_type": "markdown",
   "metadata": {},
   "source": [
    "(b) Once your choice of asset is approved, summarize the data of your asset: provide\n",
    "the current value, as well as a graph of the daily price over the last year."
   ]
  },
  {
   "cell_type": "code",
   "execution_count": 185,
   "metadata": {},
   "outputs": [
    {
     "name": "stdout",
     "output_type": "stream",
     "text": [
      "Last Price of V: 235.42\n"
     ]
    },
    {
     "data": {
      "text/plain": [
       "Text(0, 0.5, 'Price in USD')"
      ]
     },
     "execution_count": 185,
     "metadata": {},
     "output_type": "execute_result"
    },
    {
     "data": {
      "image/png": "[encoded data removed]",
      "text/plain": [
       "<Figure size 432x288 with 1 Axes>"
      ]
     },
     "metadata": {
      "needs_background": "light"
     },
     "output_type": "display_data"
    }
   ],
   "source": [
    "import matplotlib.pyplot as plt\n",
    "from numpy import round\n",
    "plt.plot(v_historical['Adj Close'])\n",
    "plt.title('Visa Adj Close Over time')\n",
    "print(\"Last Price of V: \"+ str(round(v_historical['Adj Close'][-1],2)))\n",
    "plt.xlabel(\"Date\")\n",
    "plt.ylabel('Price in USD')"
   ]
  },
  {
   "cell_type": "markdown",
   "metadata": {},
   "source": [
    "(c) Use past data to estimate a possible value for the factors u and d in the model seen\n",
    "in class for the stock for a 1-year period. (There is no \"right\" way to do this for\n",
    "this model. Use your best judgment to reach a decision.)"
   ]
  },
  {
   "cell_type": "code",
   "execution_count": 177,
   "metadata": {},
   "outputs": [
    {
     "name": "stdout",
     "output_type": "stream",
     "text": [
      "Price range: 59.99, Price Vol: 12.64, Price: Median: 222.36\n",
      "u factor is 1.1\n",
      "d factor is .89\n"
     ]
    }
   ],
   "source": [
    "v_calls[v_calls['strike'].between(200,275)]\n",
    "price_range = v_historical['Adj Close'].max() - v_historical['Adj Close'].min()\n",
    "price_vol = v_historical['Adj Close'].std()\n",
    "price_median = v_historical['Adj Close'].median()\n",
    "print(f'Price range: {np.round(price_range,2)}, Price Vol: {np.round(price_vol,2)}, Price: Median: {np.round(price_median,2)}')\n",
    "p_u = 270\n",
    "p_d = 200\n",
    "print('u factor is 1.1')\n",
    "print('d factor is .89')"
   ]
  },
  {
   "cell_type": "markdown",
   "metadata": {},
   "source": [
    "(d) Use your values of u and d found in (c), as well as a risk-neutral rate r, to calculate\n",
    "the price of a call option of your choice and compare with the actual price. Comment\n",
    "on the quality of your result."
   ]
  },
  {
   "cell_type": "code",
   "execution_count": 125,
   "metadata": {},
   "outputs": [
    {
     "name": "stdout",
     "output_type": "stream",
     "text": [
      "[*********************100%***********************]  1 of 1 completed\n",
      "We use the rate (2/3/2022): 1.92 %\n"
     ]
    }
   ],
   "source": [
    "import numpy as np\n",
    "r = yf.download('^tnx',start='2022-02-03')\n",
    "r = np.round(r['Adj Close'][0]/100,4)\n",
    "print(f'We use the rate (2/3/2022): {r*100} %')\n",
    "strike = 235\n"
   ]
  },
  {
   "cell_type": "code",
   "execution_count": 173,
   "metadata": {},
   "outputs": [
    {
     "name": "stdout",
     "output_type": "stream",
     "text": [
      "Estimated Value of the option is: 21.13\n"
     ]
    },
    {
     "data": {
      "text/plain": [
       "28    21.94\n",
       "Name: lastPrice, dtype: float64"
      ]
     },
     "execution_count": 173,
     "metadata": {},
     "output_type": "execute_result"
    }
   ],
   "source": [
    "year_from_now_option = visa.option_chain('2023-01-20')\n",
    "year_from_now_option_calls = year_from_now_option.calls\n",
    "year_from_now_option_calls[year_from_now_option_calls['strike'] == strike]\n",
    "u = v_historical['Adj Close'][-1] * 1.1\n",
    "d = v_historical['Adj Close'][-1] *.89\n",
    "phi = 35 / (u-d)\n",
    "psi = (-phi * d)/(1+r)\n",
    "v = v_historical['Adj Close'][-1] * phi + psi\n",
    "print(f'Estimated Value of the option is: {np.round(v,2)}')\n",
    "year_from_now_option_calls[year_from_now_option_calls['strike'] == strike].loc[:,'lastPrice']"
   ]
  },
  {
   "cell_type": "markdown",
   "metadata": {},
   "source": [
    "We estimated a value of 21.13 dollars and the last price of the option a year from now is 21.94. This is a pretty accurate estimate which is between the bid and the ask of this option expiring on 2023-01-20"
   ]
  }
 ],
 "metadata": {
  "interpreter": {
   "hash": "1d050cddb74b2da45a0628d6c08448b1b07527cd23eae961beca7c27a7bd2f06"
  },
  "kernelspec": {
   "display_name": "Python 3",
   "language": "python",
   "name": "python3"
  },
  "language_info": {
   "codemirror_mode": {
    "name": "ipython",
    "version": 3
   },
   "file_extension": ".py",
   "mimetype": "text/x-python",
   "name": "python",
   "nbconvert_exporter": "python",
   "pygments_lexer": "ipython3",
   "version": "3.7.6"
  }
 },
 "nbformat": 4,
 "nbformat_minor": 2
}
