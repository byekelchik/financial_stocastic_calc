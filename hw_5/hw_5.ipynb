{
 "cells": [
  {
   "cell_type": "code",
   "execution_count": 69,
   "metadata": {},
   "outputs": [],
   "source": [
    "import numpy as np\n",
    "import pandas as pd\n",
    "from scipy.stats import norm\n",
    "import yfinance as yf"
   ]
  },
  {
   "cell_type": "markdown",
   "metadata": {},
   "source": [
    "### Problem 1.\n",
    "We consider an N-period binomial market, with the notation used in the lectures. We\n",
    "consider a special option of American type: it gives you the right to sell a share of stock for\n",
    "the strike price $K$ at any time until expiration (similarly as an American put). However,\n",
    "if you did not exercise earlier than $T$, you must exercise at time $T$ (and potentially get a\n",
    "negative payoff). In short, if you exercise when the stock price is $S_t$, your payoff is $K −S_t$\n",
    "(even if it’s negative). We call $X_0$ the price of this option at time 0.\n",
    "#### (a) For the option above, prove using backward induction that it’s always better to exercise than to wait for another period. Thus, the optimal strategy is to exercise immediately and the price of this option is $X_0 = K − S_0$\n",
    "\n",
    "Hint: use a similar idea as in the proof that optimal exercise for the American call is at maturity and the fact that, at any node $k$,\n",
    "$q_k s_{2k+1} + (1 − q_k)s_{2k} = (1 + r\\Delta t) s_k$.\n",
    "\n",
    "#### (b) Let $C_0$ (resp. P0) denote the price of an American call (resp. put) with strike price K. We consider two investment opportunities:\n",
    "1. an American put with strike price $K$;\n",
    "2. an American call with strike price $K$ and the option studied above.\n",
    "\n",
    "Explain why the second opportunity is at least as valuable as the first one. Conclude\n",
    "that $P_0 \\leq K − S_0 + C_0$.\n",
    "#### (c) Using (European) put-call parity established in HW#2, conclude that $P_ 0 \\geq \\frac{K}{(1 + r \\Delta t)^N}− S_0 + C_0$.\n",
    "\n",
    "#### (d) The results of (b) and (c) provide bounds for the American put price, which use quantities which are easier to calculate (remember that the price of the American and European call are the same). Calculate those bounds for the market model in Problem 1 of HW#3 and comment on their quality.\n",
    "\n",
    "#### (e) What happens if the interest rate is 0% ? Find the price of the options in the market model of Problem 1 of HW#3 if $r = 0%$. What can you conclude about the price of an American put when $r = 0%$?\n",
    "\n"
   ]
  },
  {
   "cell_type": "markdown",
   "metadata": {},
   "source": [
    "\n",
    "### Problem 2. Fundamental option pricing formula\n",
    "This problem is based on the fundamental option pricing formula for the CRR model\n",
    "developed in class, namely the value at time 0 of an option with maturity T and payoff\n",
    "F is given by: $F_0 = e^{−rT}E_Q[F]$.\n",
    "\n",
    "We consider the two options below:\n",
    "\n",
    "- A. An option with which you must buy a share of stock at expiration $T = 1$ for strike\n",
    "price $K = S_0$.\n",
    "- B. An option with which you must buy a share of stock at expiration $T = 1$ for strike\n",
    "price K given by $K = \\frac{1}{N} \\sum_{j=0}^N S_{t_{j}}$.\n",
    "\n",
    "(Note that both options can have negative payoffs.) We use a CRR model with N periods\n",
    "to price these options. Assume that the interest rate on the money market is r.\n",
    "\n",
    "#### (a) Using the fundamental option pricing formula, find the price of option A. (Hint: use the martingale properties developed in the lectures for the stock price process.)\n",
    "\n",
    "#### (b) Using the fundamental option pricing formula, find the price of option B.\n",
    "\n",
    "#### (c) Find the limit as $N \\to \\infty $ of the results in (a) and (b).\n",
    "\n",
    "#### (d) Assuming the interest rate is very small $(r \\simeq 0)$, use Taylor expansions to find the first order approximation in r of the two results in (c).\n",
    "#### (e) Can we intuitively explain the result ?\n"
   ]
  },
  {
   "cell_type": "markdown",
   "metadata": {},
   "source": [
    "\n",
    "### Problem 3. Black-Scholes comparison\n",
    "\n",
    "We put ourselves in the setting of Prob. 3 of HW#3. There, we worked out (using a\n",
    "computer) the price of a European call and a European put options for large N. Use\n",
    "the Black-Scholes formula to find the price of the European call and put-call parity (or\n",
    "the Black-Scholes formula for a put) to find the price of the European put of Prob. 3 of\n",
    "HW#3. Compare the results with the prices obtained in HW#3 and comment on the\n",
    "quality of the approximation."
   ]
  },
  {
   "cell_type": "code",
   "execution_count": 21,
   "metadata": {},
   "outputs": [],
   "source": [
    "\"\"\"Assumptions we will carry through this problem using the info above\"\"\"\n",
    "n=60\n",
    "u = .005\n",
    "d = .003\n",
    "s_0 = 1000\n",
    "r = .05\n",
    "k= 1025\n",
    "T = 1\n",
    "r = .05"
   ]
  },
  {
   "cell_type": "code",
   "execution_count": 66,
   "metadata": {},
   "outputs": [],
   "source": [
    "def bsm_call(s,k,r,T,n,sigma_real=1):\n",
    "    dt = T/n\n",
    "    mu = (np.log(1+u) + np.log(1-d)) / (2*dt)\n",
    "    sigma = (np.log(1+u) - mu*dt) / (np.sqrt(dt))\n",
    "    d1 = (np.log(s/k) + (r + (sigma**2)/2)*T) / (sigma*np.sqrt(T))\n",
    "    d2 = d1 - sigma * np.sqrt(T)\n",
    "    price = s * norm.cdf(d1) - k * np.exp(-r*T) * norm.cdf(d2)\n",
    "    return price"
   ]
  },
  {
   "cell_type": "code",
   "execution_count": 50,
   "metadata": {},
   "outputs": [
    {
     "data": {
      "text/plain": [
       "3.5611175402698336"
      ]
     },
     "execution_count": 50,
     "metadata": {},
     "output_type": "execute_result"
    }
   ],
   "source": [
    "def put_call_parity(s_0,r,T,k,option_price,type='p'):\n",
    "    if type.lower() == 'p':\n",
    "        # C -P = S_0 - k(e^(-rt))\n",
    "        put_price=option_price + k*(np.exp(-r*T)) - s_0\n",
    "        return put_price\n",
    "        \n",
    "put_call_parity(s_0,r,T,k,bsm_call(s=s_0,k = 1025,r = .05,T = 1,n=60),type='p')"
   ]
  },
  {
   "cell_type": "code",
   "execution_count": 67,
   "metadata": {},
   "outputs": [
    {
     "name": "stdout",
     "output_type": "stream",
     "text": [
      "BSM price of the call is $28.551\n",
      "BSM price of the put is $3.561\n"
     ]
    }
   ],
   "source": [
    "bsm_call_p = bsm_call(s=s_0,k = 1025,r = .05,T = 1,n=60)\n",
    "put_price = put_call_parity(s_0,r,T,k,bsm_call(s=s_0,k = 1025,r = .05,T = 1,n=60),type='p')\n",
    "print(f'BSM price of the call is ${round(bsm_call_p,3)}')\n",
    "print(f'BSM price of the put is ${round(put_price,3)}')"
   ]
  },
  {
   "cell_type": "markdown",
   "metadata": {},
   "source": [
    "\n",
    "### Problem 4. Estimating parameters and option pricing\n",
    "The purpose of this problem is to price options based on real data with the Black-Scholes\n",
    "model.\n",
    "Consider your selected stock for the semester (used in Prob. 2 of HW#4) and the\n",
    "same options considered in that problem. Remember that the parameters µ and σ were\n",
    "already estimated in part (a) of that problem. (You are welcome to consider the dates\n",
    "and parameters obtained then, or reestimate the data with more up-to-date data, it’s up\n",
    "to you.)"
   ]
  },
  {
   "cell_type": "markdown",
   "metadata": {},
   "source": [
    "#### (a) Price the call options using the Black-Scholes formula, using the parameters estimated from your data."
   ]
  },
  {
   "cell_type": "code",
   "execution_count": 72,
   "metadata": {},
   "outputs": [
    {
     "name": "stdout",
     "output_type": "stream",
     "text": [
      "[*********************100%***********************]  1 of 1 completed\n",
      "[*********************100%***********************]  1 of 1 completed\n",
      "We use the rate (3/3/2022): 1.707 %\n"
     ]
    }
   ],
   "source": [
    "\"\"\"Stock data\"\"\" \n",
    "visa = yf.Ticker('V')\n",
    "v_historical = yf.download('V',start = '2021-01-01', end = '2022-03-03' ).drop(['Open','High','Low','Close'],axis = 1)\n",
    "current_price = v_historical['Adj Close'][-1]\n",
    "\n",
    "\"\"\"10 year yield\"\"\"\n",
    "r_10y = yf.download('^tnx',start='2022-03-01')\n",
    "r_10y = np.round(r_10y['Adj Close'][0],3)\n",
    "r_dec_10y = r_10y/100\n",
    "print(f'We use the rate (3/3/2022): {r_10y} %')\n",
    "\n",
    "\"\"\"Estimate Params\"\"\"\n",
    "delta_t = 1/252\n",
    "v_historical['log_returns'] = np.log(1+(v_historical['Adj Close'].pct_change()))\n",
    "\n",
    "sigma_v_sq = np.var(v_historical.log_returns.dropna()) / delta_t\n",
    "sigma_v = np.sqrt(sigma_v_sq)\n",
    "mu_v = np.mean(v_historical.log_returns.dropna()) /delta_t"
   ]
  },
  {
   "cell_type": "markdown",
   "metadata": {},
   "source": [
    "#### (b) Compare your results to the market price and comment on the accuracy of your results and what could explain the differences."
   ]
  },
  {
   "cell_type": "markdown",
   "metadata": {},
   "source": [
    "#### (c) Repeat question (a) and (b) for the put options, either using the Black-Scholes formula for a put or the put-call parity formula. Comment on the accuracy of your results and explain any discrepancies between your estimate and the market price."
   ]
  }
 ],
 "metadata": {
  "interpreter": {
   "hash": "dd67da6f6f3cf06c222bfdb0c7df8bf629ed7a5b86c36879350869c9e2ecbb00"
  },
  "kernelspec": {
   "display_name": "Python 3.7.6 ('base')",
   "language": "python",
   "name": "python3"
  },
  "language_info": {
   "codemirror_mode": {
    "name": "ipython",
    "version": 3
   },
   "file_extension": ".py",
   "mimetype": "text/x-python",
   "name": "python",
   "nbconvert_exporter": "python",
   "pygments_lexer": "ipython3",
   "version": "3.7.6"
  },
  "orig_nbformat": 4
 },
 "nbformat": 4,
 "nbformat_minor": 2
}
