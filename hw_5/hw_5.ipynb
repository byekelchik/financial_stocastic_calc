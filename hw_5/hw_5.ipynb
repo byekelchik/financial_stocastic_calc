{
 "cells": [
  {
   "cell_type": "code",
   "execution_count": 1,
   "metadata": {},
   "outputs": [],
   "source": [
    "import numpy as np\n",
    "import pandas as pd\n",
    "from scipy.stats import norm\n",
    "import yfinance as yf"
   ]
  },
  {
   "cell_type": "markdown",
   "metadata": {},
   "source": [
    "### Problem 1.\n",
    "We consider an N-period binomial market, with the notation used in the lectures. We\n",
    "consider a special option of American type: it gives you the right to sell a share of stock for\n",
    "the strike price $K$ at any time until expiration (similarly as an American put). However,\n",
    "if you did not exercise earlier than $T$, you must exercise at time $T$ (and potentially get a\n",
    "negative payoff). In short, if you exercise when the stock price is $S_t$, your payoff is $K −S_t$\n",
    "(even if it’s negative). We call $X_0$ the price of this option at time 0.\n"
   ]
  },
  {
   "cell_type": "markdown",
   "metadata": {},
   "source": [
    "#### (a) For the option above, prove using backward induction that it’s always better to exercise than to wait for another period. Thus, the optimal strategy is to exercise immediately and the price of this option is $X_0 = K − S_0$\n",
    "\n",
    "Hint: use a similar idea as in the proof that optimal exercise for the American call is at maturity and the fact that, at any node $k$,\n",
    "$q_k s_{2k+1} + (1 − q_k)s_{2k} = (1 + r\\Delta t) s_k$.\n"
   ]
  },
  {
   "cell_type": "markdown",
   "metadata": {},
   "source": [
    "We calcuate the payoff at the next time step\n",
    "$$f= \\frac{1}{1+r\\Delta t}(q_k f(S_{2k+1}) + (1 − q_k)f(S_{2k})) = \\frac{1}{1+r\\Delta t}(q_k (K-S_{2k+1}) + (1 − q_k)(K-S_{2k})) = $$\n",
    "$$\\frac{1}{1+r\\Delta t} (q_k K - q_kS_{2k+1} + (1 − q_k)K -(1 − q_k)S_{2k}) = \\frac{1}{1+r\\Delta t} (K-q_kS_{2k+1} - 1 +q_k S_{2k}) = \\frac{k}{1+r\\Delta t} - S_k = f_{next}$$\n",
    "\n",
    "Hence, \n",
    "$f_0 = K-S_0 >\\frac{1}{1+r\\Delta t}(K - S_k) = f_{next}$"
   ]
  },
  {
   "cell_type": "markdown",
   "metadata": {},
   "source": [
    "\n",
    "#### (b) Let $C_0$ (resp. $P_0$) denote the price of an American call (resp. put) with strike price K. We consider two investment opportunities:\n",
    "1. an American put with strike price $K$\n",
    "2. and the option studied above\n",
    "\n",
    "Explain why the second opportunity is at least as valuable as the first one. Conclude\n",
    "that $P_0 \\leq K − S_0 + C_0$.\n",
    "\n",
    "American pay off is $\\max\\{K-S,0\\}$\n",
    "\n",
    "Option above payoff is $K-S_t$\n",
    "\n",
    "$$P_0 \\leq C_0 +(K-S_0) \\implies P_0 - C_0 \\leq K - S_0$$"
   ]
  },
  {
   "cell_type": "markdown",
   "metadata": {},
   "source": [
    "#### (c) Using (European) put-call parity established in HW#2, conclude that $P_ 0 \\geq \\frac{K}{(1 + r \\Delta t)^N}− S_0 + C_0$."
   ]
  },
  {
   "cell_type": "markdown",
   "metadata": {},
   "source": [
    "$$c_0 - p_0 = S_0 -PV(K)$$\n",
    "\n",
    "In the american option, we know the calls are the same but the put worth more in american \n",
    "\n",
    "$$c_0 - p_0 = S_0 -PV(K) \\geq c_{0_a} - p_{0_a}$$\n"
   ]
  },
  {
   "cell_type": "markdown",
   "metadata": {},
   "source": [
    "$$PV(K) - S_0 + c_{0_a} \\leq p_{0_a}$$\n",
    "\n",
    "This confirms the above"
   ]
  },
  {
   "cell_type": "markdown",
   "metadata": {},
   "source": [
    "\n",
    "#### (d) The results of (b) and (c) provide bounds for the American put price, which use quantities which are easier to calculate (remember that the price of the American and European call are the same). Calculate those bounds for the market model in Problem 1 of HW#3 and comment on their quality.\n"
   ]
  },
  {
   "cell_type": "markdown",
   "metadata": {},
   "source": [
    "We have an american option with $K=4$, $T=2$, $S_0 = 4$, and $r=25 \\% $. We calculated the price of the call to be $\\frac{48}{25}$\n",
    "\n",
    "Using $c_0 - p_0 = S_0 -PV(K) \\geq c_{0_a} - p_{0_a}$, we plug in and solve:\n",
    "\n",
    "$$\\frac{1}{1.25^2} * 4 +\\frac{48}{25}-4\\leq P_0 \\leq \\frac{48}{25} \\implies \\frac{12}{25} \\leq P_0 \\leq \\frac{48}{25}$$\n",
    "The answer we got in the assignment falls between those bounds\n"
   ]
  },
  {
   "cell_type": "markdown",
   "metadata": {},
   "source": [
    "\n",
    "#### (e) What happens if the interest rate is 0% ? Find the price of the options in the market model of Problem 1 of HW#3 if $r = 0%$. What can you conclude about the price of an American put when $r = 0%$?\n",
    "\n"
   ]
  },
  {
   "cell_type": "markdown",
   "metadata": {},
   "source": [
    "The price of the american put is equal to the european when rates are zero"
   ]
  },
  {
   "cell_type": "markdown",
   "metadata": {},
   "source": [
    "\n",
    "### Problem 2. Fundamental option pricing formula\n",
    "This problem is based on the fundamental option pricing formula for the CRR model\n",
    "developed in class, namely the value at time 0 of an option with maturity T and payoff\n",
    "F is given by: $F_0 = e^{−rT}E_Q[F]$.\n",
    "\n",
    "We consider the two options below:\n",
    "\n",
    "- A. An option with which you must buy a share of stock at expiration $T = 1$ for strike\n",
    "price $K = S_0$.\n",
    "- B. An option with which you must buy a share of stock at expiration $T = 1$ for strike\n",
    "price K given by $K = \\frac{1}{N} \\sum_{j=0}^N S_{t_{j}}$.\n",
    "\n",
    "(Note that both options can have negative payoffs.) We use a CRR model with N periods\n",
    "to price these options. Assume that the interest rate on the money market is r.\n"
   ]
  },
  {
   "cell_type": "markdown",
   "metadata": {},
   "source": [
    "\n",
    "#### (a) Using the fundamental option pricing formula, find the price of option A. (Hint: use the martingale properties developed in the lectures for the stock price process.)\n"
   ]
  },
  {
   "cell_type": "markdown",
   "metadata": {},
   "source": [
    "The payoff function is $f=S_T-S_0$\n",
    "$$F_0 = e^{-rT}E_Q[F] = e^{-rT}E_Q[S_T-S_0] = E_Q[e^{-rT}S_T] - e^{-rT}S_0 = E_Q[D_T]- e^{-rT}S_0 = D_0 - e^{-rT}S_0 = S_0(1-e^{-rT})$$"
   ]
  },
  {
   "cell_type": "markdown",
   "metadata": {},
   "source": [
    "\n",
    "#### (b) Using the fundamental option pricing formula, find the price of option B.\n"
   ]
  },
  {
   "cell_type": "markdown",
   "metadata": {},
   "source": [
    "The payoff function is $f=S_T - \\frac{1}{n} \\sum _{i=0} ^N S_{j{_i}}$\n",
    "$$F_0 = e^{-rT}E_Q[S_T - \\frac{1}{n} \\sum _{i=0} ^N S_{j{_i}}]=D_0 - \\frac{e^{-rT}}{N}E_Q[S_{t_i}]$$"
   ]
  },
  {
   "cell_type": "markdown",
   "metadata": {},
   "source": [
    "#### (c) Find the limit as $N \\to \\infty $ of the results in (a) and (b).\n",
    "For option A: $\\lim_{n \\to \\infty} S_0(1-e^{-rT}) = S_0(1-e^{-rT})$\n",
    "\n",
    "For option B: $\\lim_{n \\to \\infty} \\to D_0$. The second term with the $N$ is in the denominator and hence goes to zero. Hence, $D_0$  "
   ]
  },
  {
   "cell_type": "markdown",
   "metadata": {},
   "source": [
    "#### (d) Assuming the interest rate is very small $(r \\simeq 0)$, use Taylor expansions to find the first order approximation in r of the two results in (c).\n"
   ]
  },
  {
   "cell_type": "markdown",
   "metadata": {},
   "source": [
    "For option A:\n",
    " - $f(r) = 1-e^{-rt}$\n",
    " - $f'(r) =Te^{-rT}$\n",
    " \n",
    " $1-e^{-rt} \\approx 1-e^{-rt} + Te^{-rT} \\implies S_0(1+Tr)$\n",
    "\n",
    " Option b is no good...."
   ]
  },
  {
   "cell_type": "markdown",
   "metadata": {},
   "source": [
    "#### (e) Can we intuitively explain the result ?\n",
    "For option A: 1+rT\n",
    "\n",
    "Implies the return as a function of the interest rate is the future value of the stock price\n",
    "\n",
    "For option B: $S_0$\n",
    "\n",
    "Should be that the return as a function of the interest rate results in no return. The stock price under measure q is a martingale "
   ]
  },
  {
   "cell_type": "markdown",
   "metadata": {},
   "source": [
    "\n",
    "### Problem 3. Black-Scholes comparison\n",
    "\n",
    "We put ourselves in the setting of Prob. 3 of HW#3. There, we worked out (using a\n",
    "computer) the price of a European call and a European put options for large N. Use\n",
    "the Black-Scholes formula to find the price of the European call and put-call parity (or\n",
    "the Black-Scholes formula for a put) to find the price of the European put of Prob. 3 of\n",
    "HW#3. Compare the results with the prices obtained in HW#3 and comment on the\n",
    "quality of the approximation."
   ]
  },
  {
   "cell_type": "code",
   "execution_count": 2,
   "metadata": {},
   "outputs": [],
   "source": [
    "\"\"\"Assumptions we will carry through this problem using the info above\"\"\"\n",
    "n=60\n",
    "u = .005\n",
    "d = .003\n",
    "s_0 = 1000\n",
    "r = .05\n",
    "k= 1025\n",
    "T = 1\n",
    "r = .05"
   ]
  },
  {
   "cell_type": "code",
   "execution_count": 18,
   "metadata": {},
   "outputs": [],
   "source": [
    "def bsm_call(s : float, k : float , r : float, T : int, n : int,sigma_real=1) -> float:\n",
    "    dt = T/n\n",
    "    if sigma_real == 1:\n",
    "        mu = (np.log(1+u) + np.log(1-d)) / (2*dt)\n",
    "        sigma = (np.log(1+u) - mu*dt) / (np.sqrt(dt))\n",
    "    else:\n",
    "        sigma = sigma_real\n",
    "    d1 = (np.log(s/k) + (r + (sigma**2)/2)*T) / (sigma*np.sqrt(T))\n",
    "    d2 = d1 - sigma * np.sqrt(T)\n",
    "    price = s * norm.cdf(d1) - k * np.exp(-r*T) * norm.cdf(d2)\n",
    "    return price"
   ]
  },
  {
   "cell_type": "code",
   "execution_count": 15,
   "metadata": {},
   "outputs": [
    {
     "data": {
      "text/plain": [
       "3.5611175402698336"
      ]
     },
     "execution_count": 15,
     "metadata": {},
     "output_type": "execute_result"
    }
   ],
   "source": [
    "def put_call_parity(s_0 : float, r : float, T :int , k: float , option_price ,type='p') -> float:\n",
    "    if type.lower() == 'p':\n",
    "        # C -P = S_0 - k(e^(-rt))\n",
    "        put_price=option_price + k*(np.exp(-r*T)) - s_0\n",
    "        return put_price\n",
    "        \n",
    "put_call_parity(s_0,r,T,k,bsm_call(s=s_0,k = 1025,r = .05,T = 1,n=60),type='p')"
   ]
  },
  {
   "cell_type": "code",
   "execution_count": 16,
   "metadata": {},
   "outputs": [
    {
     "name": "stdout",
     "output_type": "stream",
     "text": [
      "BSM price of the call is $28.551\n",
      "BSM price of the put is $3.561\n"
     ]
    }
   ],
   "source": [
    "bsm_call_p = bsm_call(s=s_0,k = 1025,r = .05,T = 1,n=60)\n",
    "put_price = put_call_parity(s_0,r,T,k,bsm_call(s=s_0,k = 1025,r = .05,T = 1,n=60),type='p')\n",
    "print(f'BSM price of the call is ${round(bsm_call_p,3)}')\n",
    "print(f'BSM price of the put is ${round(put_price,3)}')"
   ]
  },
  {
   "cell_type": "markdown",
   "metadata": {},
   "source": [
    "\n",
    "### Problem 4. Estimating parameters and option pricing\n",
    "The purpose of this problem is to price options based on real data with the Black-Scholes\n",
    "model.\n",
    "Consider your selected stock for the semester (used in Prob. 2 of HW#4) and the\n",
    "same options considered in that problem. Remember that the parameters µ and σ were\n",
    "already estimated in part (a) of that problem. (You are welcome to consider the dates\n",
    "and parameters obtained then, or reestimate the data with more up-to-date data, it’s up\n",
    "to you.)"
   ]
  },
  {
   "cell_type": "markdown",
   "metadata": {},
   "source": [
    "#### (a) Price the call options using the Black-Scholes formula, using the parameters estimated from your data."
   ]
  },
  {
   "cell_type": "code",
   "execution_count": 21,
   "metadata": {},
   "outputs": [],
   "source": [
    "import datetime\n",
    "from dateutil.relativedelta import relativedelta\n",
    "\n",
    "def closest_expire_calc(time_delta):\n",
    "    \"\"\"\n",
    "    takes how many months in the future\n",
    "    ----------------\n",
    "    returns the closest expire date in future\n",
    "    \"\"\"\n",
    "    target_date = datetime.datetime.today()+relativedelta(months=time_delta)\n",
    "    dt_expire=[pd.to_datetime(i) for i in visa.options]\n",
    "    time_diff= []\n",
    "    for i in range(len(dt_expire)):\n",
    "        time_diff.append(abs(dt_expire[i] - target_date)) #absolute date difference\n",
    "    min_diff = min(time_diff)\n",
    "    min_index = time_diff.index(min_diff)\n",
    "    return (str(dt_expire[min_index].date()))"
   ]
  },
  {
   "cell_type": "code",
   "execution_count": null,
   "metadata": {},
   "outputs": [],
   "source": [
    "import datetime\n",
    "from dateutil.relativedelta import relativedelta\n",
    "\n",
    "def closest_expire_calc(time_delta):\n",
    "    \"\"\"\n",
    "    takes how many months in the future\n",
    "    ----------------\n",
    "    returns the closest expire date in future\n",
    "    \"\"\"\n",
    "    target_date = datetime.datetime.today()+relativedelta(months=time_delta)\n",
    "    dt_expire=[pd.to_datetime(i) for i in visa.options]\n",
    "    time_diff= []\n",
    "    for i in range(len(dt_expire)):\n",
    "        time_diff.append(abs(dt_expire[i] - target_date)) #absolute date difference\n",
    "    min_diff = min(time_diff)\n",
    "    min_index = time_diff.index(min_diff)\n",
    "    return (str(dt_expire[min_index].date()))"
   ]
  },
  {
   "cell_type": "code",
   "execution_count": 22,
   "metadata": {},
   "outputs": [
    {
     "name": "stdout",
     "output_type": "stream",
     "text": [
      "[*********************100%***********************]  1 of 1 completed\n",
      "[*********************100%***********************]  1 of 1 completed\n",
      "We use the rate (3/3/2022): 1.707 %\n"
     ]
    }
   ],
   "source": [
    "\"\"\"Stock data\"\"\" \n",
    "visa = yf.Ticker('V')\n",
    "v_historical = yf.download('V',start = '2021-01-01', end = '2022-03-03' ).drop(['Open','High','Low','Close'],axis = 1)\n",
    "current_price = v_historical['Adj Close'][-1]\n",
    "\n",
    "\"\"\"10 year yield\"\"\"\n",
    "r_10y = yf.download('^tnx',start='2022-03-01')\n",
    "r_10y = np.round(r_10y['Adj Close'][0],3)\n",
    "r_dec_10y = r_10y/100\n",
    "print(f'We use the rate (3/3/2022): {r_10y} %')\n",
    "\n",
    "\"\"\"Estimate Params\"\"\"\n",
    "delta_t = 1/252\n",
    "v_historical['log_returns'] = np.log(1+(v_historical['Adj Close'].pct_change()))\n",
    "\n",
    "sigma_v_sq = np.var(v_historical.log_returns.dropna()) / delta_t\n",
    "sigma_v = np.sqrt(sigma_v_sq)\n",
    "mu_v = np.mean(v_historical.log_returns.dropna()) /delta_t\n",
    "\n",
    "\n",
    "\"\"\"Option Data\"\"\"\n",
    "expiredate_3_months = closest_expire_calc(3)\n",
    "opts = visa.option_chain(expiredate_3_months)\n",
    "v_calls = opts.calls\n",
    "v_puts = opts.puts"
   ]
  },
  {
   "cell_type": "code",
   "execution_count": 23,
   "metadata": {},
   "outputs": [
    {
     "name": "stdout",
     "output_type": "stream",
     "text": [
      "\tIn the Money Call\n",
      "contractSymbol          V220617C00145000\n",
      "lastTradeDate        2022-03-21 14:43:31\n",
      "strike                               145\n",
      "lastPrice                          71.85\n",
      "bid                                72.85\n",
      "ask                                75.55\n",
      "change                                 0\n",
      "percentChange                          0\n",
      "volume                                 4\n",
      "openInterest                          43\n",
      "impliedVolatility               0.609989\n",
      "inTheMoney                          True\n",
      "contractSize                     REGULAR\n",
      "currency                             USD\n",
      "Name: 15, dtype: object\n",
      "\tOut the Money Call\n",
      "contractSymbol          V220617C00225000\n",
      "lastTradeDate        2022-03-22 19:28:15\n",
      "strike                               225\n",
      "lastPrice                           8.35\n",
      "bid                                  8.2\n",
      "ask                                 8.65\n",
      "change                              0.23\n",
      "percentChange                    2.83252\n",
      "volume                                32\n",
      "openInterest                        5517\n",
      "impliedVolatility               0.267769\n",
      "inTheMoney                         False\n",
      "contractSize                     REGULAR\n",
      "currency                             USD\n",
      "Name: 31, dtype: object\n",
      "\tATM Call\n",
      "contractSymbol          V220617C00210000\n",
      "lastTradeDate        2022-03-22 17:15:44\n",
      "strike                               210\n",
      "lastPrice                          16.52\n",
      "bid                                 16.4\n",
      "ask                                17.05\n",
      "change                          0.910001\n",
      "percentChange                     5.8296\n",
      "volume                               363\n",
      "openInterest                        3508\n",
      "impliedVolatility               0.294624\n",
      "inTheMoney                          True\n",
      "contractSize                     REGULAR\n",
      "currency                             USD\n",
      "Name: 28, dtype: object\n",
      "\tATM Put\n",
      "contractSymbol          V220617P00210000\n",
      "lastTradeDate        2022-03-22 19:07:16\n",
      "strike                               210\n",
      "lastPrice                            8.5\n",
      "bid                                 8.05\n",
      "ask                                 9.95\n",
      "change                             -0.92\n",
      "percentChange                   -9.76646\n",
      "volume                                15\n",
      "openInterest                        2021\n",
      "impliedVolatility                0.32862\n",
      "inTheMoney                         False\n",
      "contractSize                     REGULAR\n",
      "currency                             USD\n",
      "Name: 28, dtype: object\n"
     ]
    }
   ],
   "source": [
    "in_money_c = v_calls[v_calls['strike']==145.0].iloc[0]\n",
    "out_money_c = v_calls[v_calls['strike']==225].iloc[0]\n",
    "atm_c = v_calls[v_calls['strike']==210].iloc[0]\n",
    "print('\\t' +'In the Money Call')\n",
    "print(in_money_c)\n",
    "print('\\t' +'Out the Money Call')\n",
    "print(out_money_c)\n",
    "print('\\t' +'ATM Call')\n",
    "print(atm_c)\n",
    "\n",
    "\"\"\"Select ATM Put\"\"\"\n",
    "selected_put = v_puts[v_puts['strike']==210.0].iloc[0]\n",
    "print('\\t' +'ATM Put')\n",
    "print(selected_put)"
   ]
  },
  {
   "cell_type": "code",
   "execution_count": 30,
   "metadata": {},
   "outputs": [
    {
     "data": {
      "text/plain": [
       "0.29041095890410956"
      ]
     },
     "execution_count": 30,
     "metadata": {},
     "output_type": "execute_result"
    }
   ],
   "source": [
    "day_to_expiry = pd.to_datetime(expiredate_3_months) - pd.to_datetime('2022-03-03')\n",
    "years_to_expiry = float(day_to_expiry.days)/365\n",
    "years_to_expiry"
   ]
  },
  {
   "cell_type": "code",
   "execution_count": 44,
   "metadata": {},
   "outputs": [
    {
     "name": "stdout",
     "output_type": "stream",
     "text": [
      "Price of call ATM: $11.346\n",
      "Price of call ITM: $64.228\n",
      "Price of call OTM: $5.832\n"
     ]
    }
   ],
   "source": [
    "v_call_atm = bsm_call(s = current_price,k = 210,r = r_dec_10y,T = years_to_expiry,n=60,sigma_real=sigma_v)\n",
    "v_call_itm = bsm_call(s = current_price,k =145,r = r_dec_10y,T = years_to_expiry,n=60,sigma_real=sigma_v)\n",
    "v_call_otm = bsm_call(s = current_price,k = 225,r = r_dec_10y,T = years_to_expiry,n=60,sigma_real=sigma_v)\n",
    "print(f'Price of call ATM: ${round(v_call_atm,3)}')\n",
    "print(f'Price of call ITM: ${round(v_call_itm,3)}')\n",
    "print(f'Price of call OTM: ${round(v_call_otm,3)}')"
   ]
  },
  {
   "cell_type": "markdown",
   "metadata": {},
   "source": [
    "#### (b) Compare your results to the market price and comment on the accuracy of your results and what could explain the differences."
   ]
  },
  {
   "cell_type": "markdown",
   "metadata": {},
   "source": [
    "Given the volitility in this current market, this pricing machine will not be that accurate as it doesn't price in sentiment toward this market segment (tech), nor on-going sanctions of Visa (V) in respect to the conflict in eastern Europe. The market prices do reflect sentiments. Hence we see a difference in prices."
   ]
  },
  {
   "cell_type": "markdown",
   "metadata": {},
   "source": [
    "#### (c) Repeat question (a) and (b) for the put options, either using the Black-Scholes formula for a put or the put-call parity formula. Comment on the accuracy of your results and explain any discrepancies between your estimate and the market price."
   ]
  },
  {
   "cell_type": "code",
   "execution_count": 51,
   "metadata": {},
   "outputs": [
    {
     "name": "stdout",
     "output_type": "stream",
     "text": [
      "Price of Put: $11.828\n"
     ]
    }
   ],
   "source": [
    "v_call_for_put = bsm_call(s = current_price,k = 210,r = r_dec_10y,T = years_to_expiry,n=60,sigma_real=sigma_v)\n",
    "v_put_price = put_price = put_call_parity(s_0 = current_price, r = r_dec_10y, T = years_to_expiry, k = 210, option_price = v_call_for_put, type='p')\n",
    "print(f'Price of Put: ${round(v_put_price,3)}')"
   ]
  },
  {
   "cell_type": "markdown",
   "metadata": {},
   "source": [
    "Given the volitility in this current market, this pricing machine will not be that accurate as it doesn't price in sentiment toward this market segment (tech), nor on-going sanctions of Visa (V) in respect to the conflict in eastern Europe. The market prices do reflect sentiments. Hence we see a difference in prices."
   ]
  }
 ],
 "metadata": {
  "interpreter": {
   "hash": "dd67da6f6f3cf06c222bfdb0c7df8bf629ed7a5b86c36879350869c9e2ecbb00"
  },
  "kernelspec": {
   "display_name": "Python 3",
   "language": "python",
   "name": "python3"
  },
  "language_info": {
   "codemirror_mode": {
    "name": "ipython",
    "version": 3
   },
   "file_extension": ".py",
   "mimetype": "text/x-python",
   "name": "python",
   "nbconvert_exporter": "python",
   "pygments_lexer": "ipython3",
   "version": "3.7.6"
  }
 },
 "nbformat": 4,
 "nbformat_minor": 2
}
