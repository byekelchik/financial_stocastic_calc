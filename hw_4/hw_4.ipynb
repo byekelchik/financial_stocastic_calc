{
 "cells": [
  {
   "cell_type": "code",
   "execution_count": 8,
   "metadata": {},
   "outputs": [],
   "source": [
    "import pandas as pd\n",
    "import numpy as np\n",
    "import yfinance as yf"
   ]
  },
  {
   "cell_type": "code",
   "execution_count": 7,
   "metadata": {},
   "outputs": [],
   "source": [
    "def binomial_price(u,d,T,n,r,s_0,k,type, instrument):\n",
    "    \"\"\"\"\n",
    "    binomial option pricing w/ N steps for time period T given call or put.\n",
    "    ----------------\n",
    "    returns np.array of option price at each times step\n",
    "    \"\"\"\n",
    "\n",
    "    dt = T/n # time delta \n",
    "    q =((1 +r*dt) - d) /(u-d) #risk free probability\n",
    "    discount = (1+r*dt)**-1 #discount factor\n",
    "    price = s_0* d **(np.arange(n,-1,-1)) * u ** (np.arange(0,n+1,1))\n",
    "    option_p = np.zeros(n+1)\n",
    "    \n",
    "    for i in range(0,n+1):\n",
    "        if type == 'c': #if call then max{S-K,0}\n",
    "            option_p[i] = max(price[i]-k,0)\n",
    "        else: #         #if put then max{k-S,0}\n",
    "            option_p[i] = max(k-price[i],0)\n",
    "    for i in np.arange(n,0,-1):\n",
    "            option_p[0:i] = discount*(q*option_p[1:i+1] + (1-q)*option_p[0:i])\n",
    "    return option_p"
   ]
  },
  {
   "cell_type": "code",
   "execution_count": null,
   "metadata": {},
   "outputs": [],
   "source": [
    "\"\"\"Pricing Assumptions\"\"\"\n",
    "\n",
    "k = 1025\n",
    "T = 1\n",
    "instrument = 'american'\n",
    "n=60\n",
    "u = 1+.005\n",
    "d = 1-.003\n",
    "s_0 = 1000\n",
    "r = .05"
   ]
  },
  {
   "cell_type": "markdown",
   "metadata": {},
   "source": [
    "### Problem 1: American options with N large\n",
    "\n",
    "Note: This problem is a continuation of Problem 3 in HW #3. The objective is to\n",
    "generalize your code to American options. Please provide the answers to the questions\n",
    "below as well as a sample of your code.\n",
    "\n",
    "We consider the same market model as in Problem 3 of HW #3. We consider an\n",
    "American put option with strike price $K = 1025$ and maturity $T = 1$ year.\n",
    "\n",
    "#### (a) Find the price of the option at time $t_0 = 0$ if it is American and compare with the price of the European put found in Problem 1.\n"
   ]
  },
  {
   "cell_type": "code",
   "execution_count": null,
   "metadata": {},
   "outputs": [],
   "source": []
  },
  {
   "cell_type": "markdown",
   "metadata": {},
   "source": [
    "\n",
    "#### (b) What is the earliest possible time of optimal exercise of the American put ?\n"
   ]
  },
  {
   "cell_type": "markdown",
   "metadata": {},
   "source": [
    "\n",
    "#### (c) Repeat questions (a) and (b) in the case where $r = 0$. What do you conclude ?"
   ]
  },
  {
   "cell_type": "markdown",
   "metadata": {},
   "source": [
    "### Problem 2: Option pricing from real data\n",
    "\n",
    "Note: This problem is the continuation of Prob. 3 in HW #1. We will use the data to\n",
    "price options and compare with the market prices.\n",
    "\n",
    "Consider the asset that you selected in HW #1. For this asset, select three call options\n",
    "and one put option. All options should have approximately the same expiration date, say\n",
    "about 3 months in the future. The three calls should have three different strike prices,\n",
    "typically one in-the-money, one at-the-money and one out-of-the-money. (Consider values\n",
    "relatively close to the current price and, if you have access to this information, for which\n",
    "the trading volume is relatively large.) The put option should be at-the-money. Record\n",
    "the current price of these options. Note that all traded options are American options. Also\n",
    "determine the interest rate to be used for your calculations: typically, you can consider\n",
    "the LIBOR rate, or the 10-year US treasury yield.\n"
   ]
  },
  {
   "cell_type": "code",
   "execution_count": 187,
   "metadata": {},
   "outputs": [
    {
     "name": "stdout",
     "output_type": "stream",
     "text": [
      "[*********************100%***********************]  1 of 1 completed\n"
     ]
    }
   ],
   "source": [
    "visa = yf.Ticker('V')\n",
    "v_historical = yf.download('V',start = '2021-01-01', end = '2022-03-03' ).drop(['Open','High','Low','Close'],axis = 1)"
   ]
  },
  {
   "cell_type": "code",
   "execution_count": 189,
   "metadata": {},
   "outputs": [
    {
     "data": {
      "text/plain": [
       "208.47999572753906"
      ]
     },
     "execution_count": 189,
     "metadata": {},
     "output_type": "execute_result"
    }
   ],
   "source": [
    "current_price = v_historical['Adj Close'][-1]\n",
    "current_price\n"
   ]
  },
  {
   "cell_type": "code",
   "execution_count": 129,
   "metadata": {},
   "outputs": [],
   "source": [
    "import datetime\n",
    "from dateutil.relativedelta import relativedelta\n",
    "\n",
    "def closest_expire_calc(time_delta):\n",
    "    \"\"\"\n",
    "    takes how many months in the future\n",
    "    returns the closest expire date in future\n",
    "    \"\"\"\n",
    "    target_date = datetime.datetime.today()+relativedelta(months=time_delta)\n",
    "    dt_expire=[pd.to_datetime(i) for i in visa.options]\n",
    "    time_diff= []\n",
    "    for i in range(len(dt_expire)):\n",
    "        time_diff.append(abs(dt_expire[i] - target_date)) #absolute date difference\n",
    "    min_diff = min(time_diff)\n",
    "    min_index = time_diff.index(min_diff)\n",
    "    return (str(dt_expire[min_index].date()))"
   ]
  },
  {
   "cell_type": "code",
   "execution_count": 130,
   "metadata": {},
   "outputs": [],
   "source": [
    "expiredate_3_months = closest_expire_calc(3)\n",
    "opts = visa.option_chain(expiredate_3_months)\n",
    "v_calls = opts.calls\n",
    "v_puts = opts.puts"
   ]
  },
  {
   "cell_type": "code",
   "execution_count": 318,
   "metadata": {},
   "outputs": [
    {
     "name": "stdout",
     "output_type": "stream",
     "text": [
      "[*********************100%***********************]  1 of 1 completed\n",
      "We use the rate (3/3/2022): 1.707 %\n"
     ]
    }
   ],
   "source": [
    "r = yf.download('^tnx',start='2022-03-01')\n",
    "r = np.round(r['Adj Close'][0],3)\n",
    "r_dec = r/100\n",
    "print(f'We use the rate (3/3/2022): {r} %')"
   ]
  },
  {
   "cell_type": "code",
   "execution_count": 177,
   "metadata": {},
   "outputs": [
    {
     "name": "stdout",
     "output_type": "stream",
     "text": [
      "\tIn the Money Call\n",
      "contractSymbol          V220617C00115000\n",
      "lastTradeDate        2021-11-10 12:00:04\n",
      "strike                             115.0\n",
      "lastPrice                          120.5\n",
      "bid                                 97.2\n",
      "ask                                100.2\n",
      "change                               0.0\n",
      "percentChange                        0.0\n",
      "volume                                 6\n",
      "openInterest                          17\n",
      "impliedVolatility               1.394168\n",
      "inTheMoney                          True\n",
      "contractSize                     REGULAR\n",
      "currency                             USD\n",
      "Name: 9, dtype: object\n",
      "\tOut the Money Call\n",
      "contractSymbol          V220617C00220000\n",
      "lastTradeDate        2022-03-04 16:21:09\n",
      "strike                             220.0\n",
      "lastPrice                            6.0\n",
      "bid                                  6.0\n",
      "ask                                  6.2\n",
      "change                             -2.59\n",
      "percentChange                 -30.151339\n",
      "volume                                34\n",
      "openInterest                        4551\n",
      "impliedVolatility               0.319648\n",
      "inTheMoney                         False\n",
      "contractSize                     REGULAR\n",
      "currency                             USD\n",
      "Name: 30, dtype: object\n",
      "\tSelected Put\n",
      "contractSymbol          V220617P00145000\n",
      "lastTradeDate        2022-03-04 16:24:46\n",
      "strike                             145.0\n",
      "lastPrice                           2.23\n",
      "bid                                 2.13\n",
      "ask                                 2.53\n",
      "change                              0.63\n",
      "percentChange                     39.375\n",
      "volume                               1.0\n",
      "openInterest                         561\n",
      "impliedVolatility               0.490545\n",
      "inTheMoney                         False\n",
      "contractSize                     REGULAR\n",
      "currency                             USD\n",
      "Name: 15, dtype: object\n"
     ]
    }
   ],
   "source": [
    "\"\"\"Select random in/out/at money calls\"\"\"\n",
    "np.random.seed(10)\n",
    "in_money_c = v_calls[v_calls['inTheMoney']==True].iloc[np.random.randint(10)]\n",
    "out_money_c = v_calls[v_calls['inTheMoney']==False].iloc[np.random.randint(10)]\n",
    "print('\\t' +'In the Money Call')\n",
    "print(in_money_c)\n",
    "print('\\t' +'Out the Money Call')\n",
    "print(out_money_c)\n",
    "\n",
    "\"\"\"Select Random Put\"\"\"\n",
    "selected_put = v_puts.iloc[np.random.randint(len(v_puts))]\n",
    "print('\\t' +'Selected Put')\n",
    "print(selected_put)"
   ]
  },
  {
   "cell_type": "code",
   "execution_count": 12,
   "metadata": {},
   "outputs": [
    {
     "name": "stdout",
     "output_type": "stream",
     "text": [
      "Price range: 59.89, Price Vol: 12.62, Price: Median: 222.0\n",
      "u factor is 1.1\n",
      "d factor is .89\n"
     ]
    }
   ],
   "source": [
    "v_calls[v_calls['strike'].between(200,275)]\n",
    "price_range = v_historical['Adj Close'].max() - v_historical['Adj Close'].min()\n",
    "price_vol = v_historical['Adj Close'].std()\n",
    "price_median = v_historical['Adj Close'].median()\n",
    "print(f'Price range: {np.round(price_range,2)}, Price Vol: {np.round(price_vol,2)}, Price: Median: {np.round(price_median,2)}')\n",
    "p_u = 270\n",
    "p_d = 200\n",
    "print('u factor is 1.1')\n",
    "print('d factor is .89')"
   ]
  },
  {
   "cell_type": "markdown",
   "metadata": {},
   "source": [
    "\n",
    "#### (a) We assume that the CRR model represents the stock price and that its assumptions are satisfied. Based on historical data (about 3 months to a year in the past), determine the parameters $\\mu$ and $\\sigma$ for the stock that you chose following the methods discussed in class. (I recommend to download current data, but feel free to use past data if that is all you have.)\n"
   ]
  },
  {
   "cell_type": "code",
   "execution_count": null,
   "metadata": {},
   "outputs": [],
   "source": [
    "# mu = \n",
    "# sigma = "
   ]
  },
  {
   "cell_type": "markdown",
   "metadata": {},
   "source": [
    "#### (b) Price the selected put option using an N-period binomial model for different values of N (which you can choose on your own). As a hint, you can for instance start with $N = 2$ or $N = 3$, which should be approximately monthly-periods. You can then use approximately weekly periods $(N \\approx 10,12)$ or daily periods $(N \\approx 60)$. Make sure that you use the exact number of days or weeks to the maturity of your option.\n"
   ]
  },
  {
   "cell_type": "markdown",
   "metadata": {},
   "source": [
    "#### (c) Compare your results to the market price and comment. In particular, discuss the impact of $N$ on your calculated price."
   ]
  },
  {
   "cell_type": "markdown",
   "metadata": {},
   "source": [
    "#### (d) Price each of the three selected call options using all of (i) approximately monthly periods $(N = 2,3)$, (ii) approximately weekly periods $(N \\approx 10, 12)$, and (iii) daily periods $(N \\approx 60)$."
   ]
  },
  {
   "cell_type": "markdown",
   "metadata": {},
   "source": [
    "#### (e) Compare your results to the market prices and comment. In particular, discuss the impact of the strike price K on your results.\n",
    "\n",
    "In general, once you obtain the parameters $\\mu$ and $\\sigma$ , you should be able to use the\n",
    "computing tool that you developed in HW#3 and in Problem 1 to price your options."
   ]
  },
  {
   "cell_type": "markdown",
   "metadata": {},
   "source": [
    "### Problem 3\n",
    "\n",
    "We consider an N-period binomial model with the following properties: each period lasts\n",
    "a year and the current stock price is $S_0 = 4$. On each period, the stock price doubles\n",
    "when it moves up and is reduced by half when it moves down. The annual interest rate\n",
    "on the money market is 25%.\n"
   ]
  },
  {
   "cell_type": "code",
   "execution_count": 212,
   "metadata": {},
   "outputs": [],
   "source": [
    "p_3_u = 2\n",
    "p_3_d =.5\n",
    "s_0 = 4\n",
    "r = .25"
   ]
  },
  {
   "cell_type": "markdown",
   "metadata": {},
   "source": [
    "\n",
    "#### (a) Find the values of $\\mu$ and $\\sigma$ associated with this CRR model\n"
   ]
  },
  {
   "cell_type": "markdown",
   "metadata": {},
   "source": [
    "#### (b) Assuming that $p=\\frac{1}{2}$ , find $P(S_T \\geq 6)$ when $N = 3$ and $N = 10$"
   ]
  },
  {
   "cell_type": "code",
   "execution_count": 265,
   "metadata": {},
   "outputs": [],
   "source": [
    "import math\n",
    "n_3 = 3\n",
    "n_10 = 10\n",
    "p=.5\n",
    "price = s_0* p_3_d **(np.arange(n_10,-1,-1)) * p_3_u ** (np.arange(0,n_10+1,1))"
   ]
  },
  {
   "cell_type": "code",
   "execution_count": 326,
   "metadata": {},
   "outputs": [
    {
     "name": "stdout",
     "output_type": "stream",
     "text": [
      "P(S_T > 6 ) = 0.3872\n"
     ]
    }
   ],
   "source": [
    "p_4 = math.comb(len(price),math.ceil(len(price)/2))*((p)**math.ceil(len(price)/2))*(1-p)**(len(price)-math.ceil(len(price)/2))\n",
    "print(f'P(S_T > 6 ) = {round(((1-p_4)/2),4)}')"
   ]
  },
  {
   "cell_type": "markdown",
   "metadata": {},
   "source": [
    "\n",
    "#### (c) Using the risk-neutral option pricing formula (written as an expectation), calculate the price of a European call with strike price $K = 8$ when $N = 3$ and $N = 10$"
   ]
  },
  {
   "cell_type": "code",
   "execution_count": null,
   "metadata": {},
   "outputs": [],
   "source": []
  }
 ],
 "metadata": {
  "interpreter": {
   "hash": "1d050cddb74b2da45a0628d6c08448b1b07527cd23eae961beca7c27a7bd2f06"
  },
  "kernelspec": {
   "display_name": "Python 3.9.10 64-bit (windows store)",
   "language": "python",
   "name": "python3"
  },
  "language_info": {
   "codemirror_mode": {
    "name": "ipython",
    "version": 3
   },
   "file_extension": ".py",
   "mimetype": "text/x-python",
   "name": "python",
   "nbconvert_exporter": "python",
   "pygments_lexer": "ipython3",
   "version": "3.9.10"
  },
  "orig_nbformat": 4
 },
 "nbformat": 4,
 "nbformat_minor": 2
}
