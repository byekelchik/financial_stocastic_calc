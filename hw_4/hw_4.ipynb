{
 "cells": [
  {
   "cell_type": "code",
   "execution_count": 5,
   "metadata": {},
   "outputs": [],
   "source": [
    "import pandas as pd\n",
    "import numpy as np\n",
    "import yfinance as yf\n"
   ]
  },
  {
   "cell_type": "code",
   "execution_count": 645,
   "metadata": {},
   "outputs": [],
   "source": [
    "def binomial_price(T,n,r,s_0,k,type,instrument, params =False,sigma =1,mu=0,u=1,d=1):\n",
    "    \"\"\"\"\n",
    "    binomial option pricing w/ N steps for time period T \n",
    "    ----------------\n",
    "    Type: str\n",
    "    c or p\n",
    "    ----------------\n",
    "    Instrument: str\n",
    "    european or american \n",
    "    ----------------\n",
    "    returns np.array of option price at each times step\n",
    "    \"\"\"\n",
    "    dt = T/n # time delta\n",
    "\n",
    "    if params == True:\n",
    "        u = np.exp(mu*dt + sigma*np.sqrt(dt))\n",
    "        d = np.exp(mu*dt - sigma*np.sqrt(dt))\n",
    "    else:\n",
    "        pass\n",
    "    \n",
    "    q =((1 +r*dt) - d) /(u-d) #risk free probability\n",
    "    discount = (1+r*dt)**-1 #discount factor\n",
    "    price = s_0* d **(np.arange(n,-1,-1)) * u ** (np.arange(0,n+1,1))\n",
    "    option_p = np.zeros(n+1)\n",
    "\n",
    "    #pay offs\n",
    "    for i in range(0,n+1):\n",
    "        if type == 'c': #if call then max{S-K,0}\n",
    "            option_p[i] = max(price[i]-k,0)\n",
    "        else: #         #if put then max{k-S,0}\n",
    "            option_p[i] = max(k-price[i],0)\n",
    "    for i in np.arange(n-1,-1,-1): #from the n-1 time to -1 (python indexing, so zero, by one time step)\n",
    "\n",
    "        s_node = s_0* d **(np.arange(i,-1,-1)) * u ** (np.arange(0,i+1,1)) #prices at everytime step\n",
    "        option_p[0:i+1] = discount*(q*option_p[1:i+2] + (1-q)*option_p[0:i+1]) #discounts back\n",
    "        option_p =option_p[:-1]\n",
    "        \n",
    "        if instrument == 'european': #if european then discount is the the price\n",
    "            pass\n",
    "        elif instrument == 'american': #if american, then at every time max(pay off, stock-k)\n",
    "            if type == 'c':\n",
    "                option_p = np.maximum(option_p,s_node-k)\n",
    "                # if i <10:\n",
    "                    # print(f\"Time {i} {type} Early Exercise:\", option_p > (s_node -k)) #print exercise decisions in the first 10 periods\n",
    "            else:\n",
    "                option_p = np.maximum(option_p,k-s_node)\n",
    "                # if i < 10:\n",
    "                    # print(f\"Time {i} {type} Early Exercise:\", option_p > (s_node -k))\n",
    "    return option_p"
   ]
  },
  {
   "cell_type": "markdown",
   "metadata": {},
   "source": [
    "### Problem 1: American options with N large\n",
    "\n",
    "Note: This problem is a continuation of Problem 3 in HW #3. The objective is to\n",
    "generalize your code to American options. Please provide the answers to the questions\n",
    "below as well as a sample of your code.\n",
    "\n",
    "We consider the same market model as in Problem 3 of HW #3. We consider an\n",
    "American put option with strike price $K = 1025$ and maturity $T = 1$ year.\n",
    "\n",
    "#### (a) Find the price of the option at time $t_0 = 0$ if it is American and compare with the price of the European put found in Problem 1.\n"
   ]
  },
  {
   "cell_type": "code",
   "execution_count": 432,
   "metadata": {},
   "outputs": [
    {
     "name": "stdout",
     "output_type": "stream",
     "text": [
      "Time 9 c Early Exercise: [ True  True  True  True  True  True  True  True  True  True]\n",
      "Time 8 c Early Exercise: [ True  True  True  True  True  True  True  True  True]\n",
      "Time 7 c Early Exercise: [ True  True  True  True  True  True  True  True]\n",
      "Time 6 c Early Exercise: [ True  True  True  True  True  True  True]\n",
      "Time 5 c Early Exercise: [ True  True  True  True  True  True]\n",
      "Time 4 c Early Exercise: [ True  True  True  True  True]\n",
      "Time 3 c Early Exercise: [ True  True  True  True]\n",
      "Time 2 c Early Exercise: [ True  True  True]\n",
      "Time 1 c Early Exercise: [ True  True]\n",
      "Time 0 c Early Exercise: [ True]\n",
      "Time 9 p Early Exercise: [ True  True  True  True  True  True  True False False False]\n",
      "Time 8 p Early Exercise: [ True  True  True  True  True  True  True False False]\n",
      "Time 7 p Early Exercise: [ True  True  True  True  True  True  True False]\n",
      "Time 6 p Early Exercise: [ True  True  True  True  True  True False]\n",
      "Time 5 p Early Exercise: [ True  True  True  True  True  True]\n",
      "Time 4 p Early Exercise: [ True  True  True  True  True]\n",
      "Time 3 p Early Exercise: [ True  True  True  True]\n",
      "Time 2 p Early Exercise: [ True  True  True]\n",
      "Time 1 p Early Exercise: [ True  True]\n",
      "Time 0 p Early Exercise: [ True]\n"
     ]
    }
   ],
   "source": [
    "call_american = binomial_price(type='c',k = 1025,T = 1,instrument = 'american',n=60,u = 1+.005,d = 1-.003,s_0 = 1000,r = .05)[0]\n",
    "put_american = binomial_price(type='p',k = 1025,T = 1,instrument = 'american',n=60,u = 1+.005,d = 1-.003,s_0 = 1000,r = .05)[0]\n",
    "call_euro = binomial_price(type='c',k = 1025,T = 1,instrument = 'european',n=60,u = 1+.005,d = 1-.003,s_0 = 1000,r = .05)[0]\n",
    "put_euro = binomial_price(type='p',k = 1025,T = 1,instrument = 'european',n=60,u = 1+.005,d = 1-.003,s_0 = 1000,r = .05)[0]"
   ]
  },
  {
   "cell_type": "code",
   "execution_count": 434,
   "metadata": {},
   "outputs": [
    {
     "name": "stdout",
     "output_type": "stream",
     "text": [
      "Euro @ Zero Rate Put: $3.567\n",
      "American @ Zero Rate Put: $25.0\n",
      "Is american put price equal to euro: False\n"
     ]
    }
   ],
   "source": [
    "assert call_american == call_euro\n",
    "assert put_american > put_euro\n",
    "\n",
    "print(f'Euro @ Zero Rate Put: ${put_euro.round(3)}')\n",
    "print(f'American @ Zero Rate Put: ${put_american.round(3)}')\n",
    "print(f'Is american put price equal to euro: {put_american == put_euro}')"
   ]
  },
  {
   "cell_type": "markdown",
   "metadata": {},
   "source": [
    "\n",
    "#### (b) What is the earliest possible time of optimal exercise of the American put ?\n"
   ]
  },
  {
   "cell_type": "code",
   "execution_count": 435,
   "metadata": {},
   "outputs": [
    {
     "name": "stdout",
     "output_type": "stream",
     "text": [
      "Time 9 p Early Exercise: [ True  True  True  True  True  True  True False False False]\n",
      "Time 8 p Early Exercise: [ True  True  True  True  True  True  True False False]\n",
      "Time 7 p Early Exercise: [ True  True  True  True  True  True  True False]\n",
      "Time 6 p Early Exercise: [ True  True  True  True  True  True False]\n",
      "Time 5 p Early Exercise: [ True  True  True  True  True  True]\n",
      "Time 4 p Early Exercise: [ True  True  True  True  True]\n",
      "Time 3 p Early Exercise: [ True  True  True  True]\n",
      "Time 2 p Early Exercise: [ True  True  True]\n",
      "Time 1 p Early Exercise: [ True  True]\n",
      "Time 0 p Early Exercise: [ True]\n",
      "\n",
      "Time 6 is the earliest time to exercise\n"
     ]
    }
   ],
   "source": [
    "put_american = binomial_price(type='p',k = 1025,T = 1,instrument = 'american',n=60,u = 1+.005,d = 1-.003,s_0 = 1000,r = .05)[0]\n",
    "print('\\nTime 6 is the earliest time to exercise')"
   ]
  },
  {
   "cell_type": "markdown",
   "metadata": {},
   "source": [
    "\n",
    "#### (c) Repeat questions (a) and (b) in the case where $r = 0$. What do you conclude ?"
   ]
  },
  {
   "cell_type": "code",
   "execution_count": 436,
   "metadata": {},
   "outputs": [
    {
     "name": "stdout",
     "output_type": "stream",
     "text": [
      "Time 9 p Early Exercise: [ True  True  True  True  True  True  True  True False False]\n",
      "Time 8 p Early Exercise: [ True  True  True  True  True  True  True  True False]\n",
      "Time 7 p Early Exercise: [ True  True  True  True  True  True  True False]\n",
      "Time 6 p Early Exercise: [ True  True  True  True  True  True  True]\n",
      "Time 5 p Early Exercise: [ True  True  True  True  True  True]\n",
      "Time 4 p Early Exercise: [ True  True  True  True  True]\n",
      "Time 3 p Early Exercise: [ True  True  True  True]\n",
      "Time 2 p Early Exercise: [ True  True  True]\n",
      "Time 1 p Early Exercise: [ True  True]\n",
      "Time 0 p Early Exercise: [ True]\n",
      "\n",
      "Time 7 is the earliest time to exercise\n"
     ]
    }
   ],
   "source": [
    "put_american_r0 = binomial_price(type='p',k = 1025,T = 1,instrument = 'american',n=60,u = 1+.005,d = 1-.003,s_0 = 1000,r = 0)[0]\n",
    "call_euro_r0 = binomial_price(type='c',k = 1025,T = 1,instrument = 'european',n=60,u = 1+.005,d = 1-.003,s_0 = 1000,r = 0)[0]\n",
    "put_euro_r0 = binomial_price(type='p',k = 1025,T = 1,instrument = 'european',n=60,u = 1+.005,d = 1-.003,s_0 = 1000,r = 0)[0]\n",
    "print('\\nTime 7 is the earliest time to exercise')"
   ]
  },
  {
   "cell_type": "code",
   "execution_count": 566,
   "metadata": {},
   "outputs": [
    {
     "name": "stdout",
     "output_type": "stream",
     "text": [
      "Euro @ Zero Rate Put: $28.602\n",
      "American @ Zero Rate Put: $28.602\n",
      "Is american put price equal to euro: True\n"
     ]
    }
   ],
   "source": [
    "print(f'Euro @ Zero Rate Put: ${put_euro_r0.round(3)}')\n",
    "print(f'American @ Zero Rate Put: ${put_american_r0.round(3)}')\n",
    "print(f'Is american put price equal to euro: {put_american_r0 == put_american_r0}')"
   ]
  },
  {
   "cell_type": "markdown",
   "metadata": {},
   "source": [
    "### Problem 2: Option pricing from real data\n",
    "\n",
    "Note: This problem is the continuation of Prob. 3 in HW #1. We will use the data to\n",
    "price options and compare with the market prices.\n",
    "\n",
    "Consider the asset that you selected in HW #1. For this asset, select three call options\n",
    "and one put option. All options should have approximately the same expiration date, say\n",
    "about 3 months in the future. The three calls should have three different strike prices,\n",
    "typically one in-the-money, one at-the-money and one out-of-the-money. (Consider values\n",
    "relatively close to the current price and, if you have access to this information, for which\n",
    "the trading volume is relatively large.) The put option should be at-the-money. Record\n",
    "the current price of these options. Note that all traded options are American options. Also\n",
    "determine the interest rate to be used for your calculations: typically, you can consider\n",
    "the LIBOR rate, or the 10-year US treasury yield.\n"
   ]
  },
  {
   "cell_type": "code",
   "execution_count": 567,
   "metadata": {},
   "outputs": [
    {
     "name": "stdout",
     "output_type": "stream",
     "text": [
      "[*********************100%***********************]  1 of 1 completed\n"
     ]
    }
   ],
   "source": [
    "import matplotlib.pyplot as plt \n",
    "visa = yf.Ticker('V')\n",
    "v_historical = yf.download('V',start = '2021-01-01', end = '2022-03-03' ).drop(['Open','High','Low','Close'],axis = 1)"
   ]
  },
  {
   "cell_type": "code",
   "execution_count": 693,
   "metadata": {},
   "outputs": [
    {
     "name": "stdout",
     "output_type": "stream",
     "text": [
      "Current Price: $208.48\n"
     ]
    }
   ],
   "source": [
    "current_price = v_historical['Adj Close'][-1]\n",
    "print(f'Current Price: ${round(current_price,3)}')"
   ]
  },
  {
   "cell_type": "code",
   "execution_count": 256,
   "metadata": {},
   "outputs": [],
   "source": [
    "import datetime\n",
    "from dateutil.relativedelta import relativedelta\n",
    "\n",
    "def closest_expire_calc(time_delta):\n",
    "    \"\"\"\n",
    "    takes how many months in the future\n",
    "    ----------------\n",
    "    returns the closest expire date in future\n",
    "    \"\"\"\n",
    "    target_date = datetime.datetime.today()+relativedelta(months=time_delta)\n",
    "    dt_expire=[pd.to_datetime(i) for i in visa.options]\n",
    "    time_diff= []\n",
    "    for i in range(len(dt_expire)):\n",
    "        time_diff.append(abs(dt_expire[i] - target_date)) #absolute date difference\n",
    "    min_diff = min(time_diff)\n",
    "    min_index = time_diff.index(min_diff)\n",
    "    return (str(dt_expire[min_index].date()))"
   ]
  },
  {
   "cell_type": "code",
   "execution_count": 257,
   "metadata": {},
   "outputs": [],
   "source": [
    "expiredate_3_months = closest_expire_calc(3)\n",
    "opts = visa.option_chain(expiredate_3_months)\n",
    "v_calls = opts.calls\n",
    "v_puts = opts.puts"
   ]
  },
  {
   "cell_type": "code",
   "execution_count": 561,
   "metadata": {},
   "outputs": [
    {
     "name": "stdout",
     "output_type": "stream",
     "text": [
      "[*********************100%***********************]  1 of 1 completed\n",
      "We use the rate (3/3/2022): 1.707 %\n"
     ]
    }
   ],
   "source": [
    "r_10y = yf.download('^tnx',start='2022-03-01')\n",
    "r_10y = np.round(r_10y['Adj Close'][0],3)\n",
    "r_dec_10y = r_10y/100\n",
    "print(f'We use the rate (3/3/2022): {r_10y} %')"
   ]
  },
  {
   "cell_type": "code",
   "execution_count": 707,
   "metadata": {},
   "outputs": [
    {
     "name": "stdout",
     "output_type": "stream",
     "text": [
      "\tIn the Money Call\n",
      "contractSymbol          V220617C00145000\n",
      "lastTradeDate        2022-02-09 16:36:19\n",
      "strike                             145.0\n",
      "lastPrice                          88.13\n",
      "bid                                 46.9\n",
      "ask                                 48.9\n",
      "change                               0.0\n",
      "percentChange                        0.0\n",
      "volume                                86\n",
      "openInterest                          43\n",
      "impliedVolatility               0.465093\n",
      "inTheMoney                          True\n",
      "contractSize                     REGULAR\n",
      "currency                             USD\n",
      "Name: 15, dtype: object\n",
      "\tOut the Money Call\n",
      "contractSymbol          V220617C00225000\n",
      "lastTradeDate        2022-03-08 14:56:35\n",
      "strike                             225.0\n",
      "lastPrice                           3.15\n",
      "bid                                  3.0\n",
      "ask                                 3.35\n",
      "change                             -0.28\n",
      "percentChange                  -8.163264\n",
      "volume                               150\n",
      "openInterest                        3996\n",
      "impliedVolatility               0.327521\n",
      "inTheMoney                         False\n",
      "contractSize                     REGULAR\n",
      "currency                             USD\n",
      "Name: 31, dtype: object\n",
      "\tATM Call\n",
      "contractSymbol          V220617C00210000\n",
      "lastTradeDate        2022-03-08 16:22:14\n",
      "strike                             210.0\n",
      "lastPrice                           6.51\n",
      "bid                                  6.5\n",
      "ask                                  6.9\n",
      "change                             -0.24\n",
      "percentChange                  -3.555552\n",
      "volume                                32\n",
      "openInterest                        3456\n",
      "impliedVolatility                 0.3404\n",
      "inTheMoney                         False\n",
      "contractSize                     REGULAR\n",
      "currency                             USD\n",
      "Name: 28, dtype: object\n",
      "\tSelected Put\n",
      "contractSymbol          V220617P00210000\n",
      "lastTradeDate        2022-03-08 16:45:11\n",
      "strike                             210.0\n",
      "lastPrice                          26.82\n",
      "bid                                26.35\n",
      "ask                                 27.1\n",
      "change                              1.82\n",
      "percentChange                   7.279999\n",
      "volume                               5.0\n",
      "openInterest                        2012\n",
      "impliedVolatility               0.379218\n",
      "inTheMoney                          True\n",
      "contractSize                     REGULAR\n",
      "currency                             USD\n",
      "Name: 28, dtype: object\n"
     ]
    }
   ],
   "source": [
    "\"\"\"Select random in/out/at money calls\"\"\"\n",
    "np.random.seed(10)\n",
    "in_money_c = v_calls[v_calls['strike']==145.0].iloc[0]\n",
    "out_money_c = v_calls[v_calls['strike']==225].iloc[0]\n",
    "atm_c = v_calls[v_calls['strike']==210].iloc[0]\n",
    "print('\\t' +'In the Money Call')\n",
    "print(in_money_c)\n",
    "print('\\t' +'Out the Money Call')\n",
    "print(out_money_c)\n",
    "print('\\t' +'ATM Call')\n",
    "print(atm_c)\n",
    "\n",
    "\"\"\"Select ATM Put\"\"\"\n",
    "selected_put = v_puts[v_puts['strike']==210.0].iloc[0]\n",
    "print('\\t' +'Selected Put')\n",
    "print(selected_put)"
   ]
  },
  {
   "cell_type": "markdown",
   "metadata": {},
   "source": [
    "\n",
    "#### (a) We assume that the CRR model represents the stock price and that its assumptions are satisfied. Based on historical data (about 3 months to a year in the past), determine the parameters $\\mu$ and $\\sigma$ for the stock that you chose following the methods discussed in class. (I recommend to download current data, but feel free to use past data if that is all you have.)\n"
   ]
  },
  {
   "cell_type": "markdown",
   "metadata": {},
   "source": [
    "$$\\hat{\\mu} = \\frac{1}{M \\Delta t} \\sum_{k=1} ^M y_k$$\n",
    "$$\\hat{\\sigma}^2 = \\frac{1}{M \\Delta t}\\sum_{k=1} ^M(Y_K -E[Y_k])^2 = \\frac{1}{M \\Delta t}\\sum_{k=1} ^M(Y_K -\\hat{\\mu} \\Delta t)^2$$"
   ]
  },
  {
   "cell_type": "code",
   "execution_count": 678,
   "metadata": {},
   "outputs": [
    {
     "name": "stdout",
     "output_type": "stream",
     "text": [
      "mu: -3.09%\n",
      "sigma: 25.8%\n"
     ]
    }
   ],
   "source": [
    "delta_t = 1/252\n",
    "v_historical['log_returns'] = np.log(1+(v_historical['Adj Close'].pct_change()))\n",
    "\n",
    "sigma_v_sq = np.var(v_historical.log_returns.dropna()) / delta_t\n",
    "sigma_v = np.sqrt(sigma_v_sq)\n",
    "mu_v = np.mean(v_historical.log_returns.dropna()) /delta_t\n",
    "\n",
    "print(f'mu: {round(mu_v,4)*100}%')\n",
    "print(f'sigma: {round(sigma_v,3)*100}%')"
   ]
  },
  {
   "cell_type": "markdown",
   "metadata": {},
   "source": [
    "#### (b) Price the selected put option using an N-period binomial model for different values of N (which you can choose on your own). As a hint, you can for instance start with $N = 2$ or $N = 3$, which should be approximately monthly-periods. You can then use approximately weekly periods $(N \\approx 10,12)$ or daily periods $(N \\approx 60)$. Make sure that you use the exact number of days or weeks to the maturity of your option.\n"
   ]
  },
  {
   "cell_type": "code",
   "execution_count": 681,
   "metadata": {},
   "outputs": [],
   "source": [
    "day_to_expiry = pd.to_datetime(expiry) - pd.to_datetime('2022-03-03')\n",
    "years_to_expiry = float(day_to_expiry.days)/365"
   ]
  },
  {
   "cell_type": "code",
   "execution_count": 730,
   "metadata": {},
   "outputs": [
    {
     "name": "stdout",
     "output_type": "stream",
     "text": [
      "Price of Visa Put ATM: $11.954\n"
     ]
    }
   ],
   "source": [
    "price_estimate_v_put =binomial_price(years_to_expiry,60,r=r_dec_10y,s_0=current_price,k=210,type='p', instrument='american',\n",
    "                    params =True,sigma =sigma_v ,mu=mu_v)[0]\n",
    "print(f\"Price of Visa Put ATM: ${round(price_estimate_v_put,4)}\")"
   ]
  },
  {
   "cell_type": "markdown",
   "metadata": {},
   "source": [
    "#### (c) Compare your results to the market price and comment. In particular, discuss the impact of $N$ on your calculated price."
   ]
  },
  {
   "cell_type": "code",
   "execution_count": 668,
   "metadata": {},
   "outputs": [],
   "source": [
    "price = []\n",
    "for i in range(1,60):\n",
    "    price.append(binomial_price(years_to_expiry,i,r=r_dec_10y,s_0=current_price,k=210,type='p', instrument='american',\n",
    "                    params =True,sigma =sigma_v ,mu=mu_v)[0])"
   ]
  },
  {
   "cell_type": "code",
   "execution_count": 669,
   "metadata": {},
   "outputs": [
    {
     "data": {
      "text/plain": [
       "Text(0.5, 1.0, 'Option price vs. Chosen N')"
      ]
     },
     "execution_count": 669,
     "metadata": {},
     "output_type": "execute_result"
    },
    {
     "data": {
      "image/png": "[encoded data removed]",
      "text/plain": [
       "<Figure size 432x288 with 1 Axes>"
      ]
     },
     "metadata": {
      "needs_background": "light"
     },
     "output_type": "display_data"
    }
   ],
   "source": [
    "plt.scatter(range(1,len(price)+1),price)\n",
    "plt.xlabel('N')\n",
    "plt.ylabel('Option Price')\n",
    "plt.title('Option price vs. Chosen N')"
   ]
  },
  {
   "cell_type": "markdown",
   "metadata": {},
   "source": [
    "As we increase the N, the price should converge to the proper value of the option.. clearly converging is occuring but something funny"
   ]
  },
  {
   "cell_type": "markdown",
   "metadata": {},
   "source": [
    "#### (d) Price each of the three selected call options using all of (i) approximately monthly periods $(N = 2,3)$, (ii) approximately weekly periods $(N \\approx 10, 12)$, and (iii) daily periods $(N \\approx 60)$."
   ]
  },
  {
   "cell_type": "code",
   "execution_count": 706,
   "metadata": {},
   "outputs": [
    {
     "name": "stdout",
     "output_type": "stream",
     "text": [
      "Call Price w/ Various Strikes using different time Partitions \n",
      "\n",
      "N = 3, Strike:[140]: $0.0\n",
      "N = 10, Strike:[140]: $0.0062\n",
      "N = 60, Strike:[140]: $0.0118\n",
      "N = 3, Strike:[225]: $20.842\n",
      "N = 10, Strike:[225]: $21.219\n",
      "N = 60, Strike:[225]: $21.4466\n",
      "N = 3, Strike:[210]: $12.7916\n",
      "N = 10, Strike:[210]: $12.0034\n",
      "N = 60, Strike:[210]: $11.954\n"
     ]
    }
   ],
   "source": [
    "n = [3,10,60]\n",
    "calls_strike = [140,225,210]\n",
    "print('Call Price w/ Various Strikes using different time Partitions \\n')\n",
    "for strike in range(len(calls_strike)):\n",
    "    for i in range(len(n)):\n",
    "        price = binomial_price(years_to_expiry,n[i],r=r_dec_10y,s_0=current_price, k=calls_strike[strike] ,type='p', instrument='american',\n",
    "                    params =True,sigma =sigma_v ,mu=mu_v)[0]\n",
    "        print(f'N = {n[i]}, Strike:{[calls_strike[strike]]}: ${round(price,4)}')"
   ]
  },
  {
   "cell_type": "markdown",
   "metadata": {},
   "source": [
    "#### (e) Compare your results to the market prices and comment. In particular, discuss the impact of the strike price K on your results."
   ]
  },
  {
   "cell_type": "markdown",
   "metadata": {},
   "source": [
    "Given the volitility in this current market, this pricing machine will not be that accurate as it doesn't price in sentiment toward this market segment (tech), nor on-going sanctions of Visa (V) in respect to the conflict in east Europe. The market prices do reflect sentiments. Hence we see a stark difference in prices."
   ]
  },
  {
   "cell_type": "markdown",
   "metadata": {},
   "source": [
    "### Problem 3\n",
    "\n",
    "We consider an N-period binomial model with the following properties: each period lasts\n",
    "a year and the current stock price is $S_0 = 4$. On each period, the stock price doubles\n",
    "when it moves up and is reduced by half when it moves down. The annual interest rate\n",
    "on the money market is 25%.\n"
   ]
  },
  {
   "cell_type": "code",
   "execution_count": 297,
   "metadata": {},
   "outputs": [],
   "source": [
    "p_3_u = 2\n",
    "p_3_d =.5\n",
    "s_0 = 4\n",
    "r = .25"
   ]
  },
  {
   "cell_type": "markdown",
   "metadata": {},
   "source": [
    "\n",
    "#### (a) Find the values of $\\mu$ and $\\sigma$ associated with this CRR model\n"
   ]
  },
  {
   "cell_type": "code",
   "execution_count": 708,
   "metadata": {},
   "outputs": [
    {
     "name": "stdout",
     "output_type": "stream",
     "text": [
      "mu: 0.0\n",
      "sigma: 11.003370370363198\n"
     ]
    }
   ],
   "source": [
    "dt = 1/252\n",
    "mu = (np.log(2) + np.log(1-p_3_d)) / (2*dt)\n",
    "sigma = (np.log(2) - mu*dt) / (np.sqrt(dt))\n",
    "print(f'mu: {mu}')\n",
    "print(f'sigma: {sigma}')"
   ]
  },
  {
   "cell_type": "markdown",
   "metadata": {},
   "source": [
    "#### (b) Assuming that $p=\\frac{1}{2}$ , find $P(S_T \\geq 6)$ when $N = 3$ and $N = 10$"
   ]
  },
  {
   "cell_type": "code",
   "execution_count": 313,
   "metadata": {},
   "outputs": [],
   "source": [
    "import math\n",
    "n_3 = 3\n",
    "n_10 = 10\n",
    "p=.5\n",
    "price_10 = s_0* p_3_d **(np.arange(n_10,-1,-1)) * p_3_u ** (np.arange(0,n_10+1,1))\n",
    "price_3 = s_0* p_3_d **(np.arange(n_3,-1,-1)) * p_3_u ** (np.arange(0,n_3+1,1))"
   ]
  },
  {
   "cell_type": "code",
   "execution_count": 721,
   "metadata": {},
   "outputs": [],
   "source": [
    "def prob_price_greater_than_calc(n_t, price_level):\n",
    "    \"\"\"\n",
    "    takes the time point and a price level\n",
    "    --------\n",
    "    Returns P(S_T >= price_level)\n",
    "    \"\"\"\n",
    "    prices = s_0* p_3_d **(np.arange(n_t,-1,-1)) * p_3_u ** (np.arange(0,n_t+1,1)) #calc all the prices\n",
    "    idx = [i for i,v in enumerate(prices) if v > price_level] #get the index of s_t that are greater then price_level\n",
    "    answer = 0\n",
    "    for i in idx:\n",
    "        answer += math.comb(n_t,i) *(.5)**n_t\n",
    "    return answer"
   ]
  },
  {
   "cell_type": "code",
   "execution_count": 722,
   "metadata": {},
   "outputs": [
    {
     "name": "stdout",
     "output_type": "stream",
     "text": [
      "N=10: P(S_T > 6 ) = 0.377\n",
      "N=3: P(S_T > 6 ) = 0.5\n"
     ]
    }
   ],
   "source": [
    "p_4_n10 = prob_price_greater_than_calc(10, 6)\n",
    "p_4_n3 = prob_price_greater_than_calc(3, 6)\n",
    "print(f'N=10: P(S_T > 6 ) = {round(p_4_n10,4)}')\n",
    "print(f'N=3: P(S_T > 6 ) = {round(p_4_n3,4)}')"
   ]
  },
  {
   "cell_type": "markdown",
   "metadata": {},
   "source": [
    "\n",
    "#### (c) Using the risk-neutral option pricing formula (written as an expectation), calculate the price of a European call with strike price $K = 8$ when $N = 3$ and $N = 10$"
   ]
  },
  {
   "cell_type": "code",
   "execution_count": 709,
   "metadata": {},
   "outputs": [],
   "source": [
    "def prices_t(t,s_0,p_d,p_u):\n",
    "    \"\"\"\n",
    "    Given time period, inital stock price, up and down movement\n",
    "    --------\n",
    "    Returns all posible prices at the given time period\n",
    "    \"\"\"\n",
    "    return s_0* p_d **(np.arange(t,-1,-1)) * p_u ** (np.arange(0,t+1,1)) #calc all the prices\n"
   ]
  },
  {
   "cell_type": "code",
   "execution_count": 719,
   "metadata": {},
   "outputs": [
    {
     "name": "stdout",
     "output_type": "stream",
     "text": [
      "Prices at  t = 3\n"
     ]
    },
    {
     "data": {
      "text/plain": [
       "array([ 0.5,  2. ,  8. , 32. ])"
      ]
     },
     "execution_count": 719,
     "metadata": {},
     "output_type": "execute_result"
    }
   ],
   "source": [
    "print('Prices at  t = 3')\n",
    "prices_t(3,s_0 =4,p_d=p_3_d,p_u = p_3_u)"
   ]
  },
  {
   "cell_type": "code",
   "execution_count": 720,
   "metadata": {},
   "outputs": [
    {
     "name": "stdout",
     "output_type": "stream",
     "text": [
      "Prices at  t = 10\n"
     ]
    },
    {
     "data": {
      "text/plain": [
       "array([3.90625e-03, 1.56250e-02, 6.25000e-02, 2.50000e-01, 1.00000e+00,\n",
       "       4.00000e+00, 1.60000e+01, 6.40000e+01, 2.56000e+02, 1.02400e+03,\n",
       "       4.09600e+03])"
      ]
     },
     "execution_count": 720,
     "metadata": {},
     "output_type": "execute_result"
    }
   ],
   "source": [
    "print('Prices at  t = 10')\n",
    "prices_t(10,s_0 =4,p_d=p_3_d,p_u = p_3_u)"
   ]
  },
  {
   "cell_type": "markdown",
   "metadata": {},
   "source": [
    "$N=3$\n",
    "$$F_0 = PV E_Q[max\\{0,S_3-K\\}] = \\frac{1}{(1+.25)^3} E_Q[max\\{0,S_3-8\\}] = $$\n",
    "$$ PV(E_Q[max\\{0,S_3-8\\}|S_3 \\geq 8] Q(S_3 \\geq 8) +E_Q[max\\{0,S_3-8\\}|S_3 \\leq 8] Q(S_3 \\leq 8))=$$\n",
    "\n",
    "If $S_3 < 8,$ then the the value is zero and the right part of the equation is zero. Hence,\n",
    "$$PV(E_Q[S_3-8|S_3 \\geq 8] Q(S_3 \\geq 8)) = PV((E_Q[S_3|S_3 \\geq 8] - 8) Q(S_3 \\geq 8))$$\n",
    "\n",
    "Given the random variable $S_3$, we can produce the sample space with the assumptions given: $\\{.5,2,8,32\\}$ (via pricing_t function)\n",
    "\n",
    "Now we evaluate the conditional expectation for each element in the sample space:\n",
    "\n",
    "$$F_0 = PV(((8\\frac{3}{8} + 32\\frac{1}{8})*2-8)Q(S_3 \\geq 8))=\\frac{1}{1.25^3}(6*.5) =1.536$$\n",
    "Price of the call when $N =3$ is $ \\$1.536$\n",
    "\n",
    "$N=10$\n",
    "$$F_0 = PV E_Q[max\\{0,S_{10}-K\\}] = \\frac{1}{(1+.25)^10} E_Q[max\\{0,S_{10}-8\\}]=$$\n",
    "$$PV(E_Q[max\\{0,S_{10}-8\\}|S_{10} \\geq 8] Q(S_{10} \\geq 8) +E_Q[max\\{0,S_{10}-8\\}|S_{10} \\leq 8] Q(S_{10} \\leq 8))=$$\n",
    "If $S_{10} < 8,$ then the the value is zero and the right part of the equation is zero. Hence,\n",
    "$$PV(E_Q[S_{10}-8|S_{10} \\geq 8] Q(S_{10} \\geq 8)) = PV((E_Q[S_{10}|S_{10} \\geq 8]-8 )Q(S_{10} \\geq 8))$$\n",
    "\n",
    "Given the random variable $S_{10}$, we can produce the sample space with the assumptions given via pricing_t function above and see 5 values (1.60000e+01, 6.40000e+01, 2.56000e+02, 1.02400e+03, 4.09600e+03) are above the strike $K$. Using the combinatorics in prob_price_greater_than_calc above, we have:\n",
    "\n",
    "$$ PV(((\\frac{\\sum_{i=6}^{10}{10 \\choose i}(.5)^{10} }{.377})-8) Q(S_{10} \\geq 8) = PV(((\\frac{16{10 \\choose 6}(.5)^{10}+64{10 \\choose 7}(.5)^{10}+256{10 \\choose 8}(.5)^{10}+1024{10 \\choose 9}(.5)^{10}+4096{10 \\choose 10}(.5)^{10} }{.377}) -8)Q(S_{10} \\geq 8) = $$\n",
    "\n",
    "With the help of a mighty calculator,\n",
    "$$\\frac{1}{1.25^{10}}(\\frac{36.0313}{.377}-8)(.377) = 3.545$$"
   ]
  },
  {
   "cell_type": "code",
   "execution_count": 729,
   "metadata": {},
   "outputs": [
    {
     "name": "stdout",
     "output_type": "stream",
     "text": [
      "Pricing Machine for Problem C @ N=3: $1.536\n",
      "Pricing Machine for Problem C @ N=10: $3.545\n"
     ]
    }
   ],
   "source": [
    "pm_3 = binomial_price(type='c',k = 8,T = 3,instrument = 'european',n=3,u = 2,d = .5,s_0 = 4,r = .25)[0]\n",
    "print(f'Pricing Machine for Problem C @ N=3: ${round(pm_3,4)}')\n",
    "pm_10 = binomial_price(type='c',k = 8,T = 10,instrument = 'european',n=10,u = 2,d = .5,s_0 = 4,r = .25)[0]\n",
    "print(f'Pricing Machine for Problem C @ N=10: ${round(pm_10,4)}')"
   ]
  }
 ],
 "metadata": {
  "interpreter": {
   "hash": "1d050cddb74b2da45a0628d6c08448b1b07527cd23eae961beca7c27a7bd2f06"
  },
  "kernelspec": {
   "display_name": "Python 3.9.10 64-bit (windows store)",
   "language": "python",
   "name": "python3"
  },
  "language_info": {
   "codemirror_mode": {
    "name": "ipython",
    "version": 3
   },
   "file_extension": ".py",
   "mimetype": "text/x-python",
   "name": "python",
   "nbconvert_exporter": "python",
   "pygments_lexer": "ipython3",
   "version": "3.9.10"
  },
  "orig_nbformat": 4
 },
 "nbformat": 4,
 "nbformat_minor": 2
}
